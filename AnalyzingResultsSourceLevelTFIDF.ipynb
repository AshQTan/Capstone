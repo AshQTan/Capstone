{
 "cells": [
  {
   "cell_type": "code",
   "execution_count": 6,
   "metadata": {},
   "outputs": [],
   "source": [
    "import json\n",
    "import pandas as pd\n",
    "import numpy as np\n",
    "import os\n",
    "import sys\n",
    "import tensorflow as tf\n",
    "from time import time\n",
    "import io\n",
    "import re\n",
    "\n",
    "import pickle\n",
    "from csv import reader\n",
    "import matplotlib.pyplot as plt\n",
    "\n",
    "import matplotlib.pyplot as plt\n",
    "from matplotlib import colors\n",
    "from matplotlib.ticker import PercentFormatter\n",
    "\n",
    "from tensorflow.keras import layers\n",
    "from tensorflow.keras.backend import sparse_categorical_crossentropy\n",
    "from tensorflow.keras.layers import Dense, Flatten\n",
    "from tensorflow.keras.utils import plot_model\n",
    "\n",
    "# physical_devices = tf.config.list_physical_devices('GPU') \n",
    "# tf.config.experimental.set_memory_growth(physical_devices[0], True)\n",
    "\n",
    "from datetime import datetime\n",
    "from collections import defaultdict\n",
    "\n",
    "from sklearn.model_selection import train_test_split\n",
    "\n"
   ]
  },
  {
   "cell_type": "code",
   "execution_count": 7,
   "metadata": {},
   "outputs": [
    {
     "name": "stdout",
     "output_type": "stream",
     "text": [
      "Num GPUs Available:  1\n"
     ]
    }
   ],
   "source": [
    "print(\"Num GPUs Available: \", len(tf.config.experimental.list_physical_devices('GPU')))"
   ]
  },
  {
   "cell_type": "code",
   "execution_count": 8,
   "metadata": {},
   "outputs": [
    {
     "data": {
      "text/plain": [
       "[PhysicalDevice(name='/physical_device:CPU:0', device_type='CPU'),\n",
       " PhysicalDevice(name='/physical_device:GPU:0', device_type='GPU')]"
      ]
     },
     "execution_count": 8,
     "metadata": {},
     "output_type": "execute_result"
    }
   ],
   "source": [
    "tf.config.list_physical_devices()"
   ]
  },
  {
   "cell_type": "code",
   "execution_count": 9,
   "metadata": {},
   "outputs": [],
   "source": [
    "from transformers import TFXLNetForSequenceClassification, XLNetTokenizer"
   ]
  },
  {
   "cell_type": "markdown",
   "metadata": {},
   "source": [
    "## Data"
   ]
  },
  {
   "cell_type": "code",
   "execution_count": 10,
   "metadata": {},
   "outputs": [
    {
     "data": {
      "text/html": [
       "<div>\n",
       "<style scoped>\n",
       "    .dataframe tbody tr th:only-of-type {\n",
       "        vertical-align: middle;\n",
       "    }\n",
       "\n",
       "    .dataframe tbody tr th {\n",
       "        vertical-align: top;\n",
       "    }\n",
       "\n",
       "    .dataframe thead th {\n",
       "        text-align: right;\n",
       "    }\n",
       "</style>\n",
       "<table border=\"1\" class=\"dataframe\">\n",
       "  <thead>\n",
       "    <tr style=\"text-align: right;\">\n",
       "      <th></th>\n",
       "      <th>topic</th>\n",
       "      <th>source</th>\n",
       "      <th>bias</th>\n",
       "      <th>url</th>\n",
       "      <th>title</th>\n",
       "      <th>date</th>\n",
       "      <th>authors</th>\n",
       "      <th>content</th>\n",
       "      <th>content_original</th>\n",
       "      <th>source_url</th>\n",
       "      <th>bias_text</th>\n",
       "      <th>ID</th>\n",
       "      <th>pred_labels</th>\n",
       "    </tr>\n",
       "  </thead>\n",
       "  <tbody>\n",
       "    <tr>\n",
       "      <th>0</th>\n",
       "      <td>palestine</td>\n",
       "      <td>Breitbart News</td>\n",
       "      <td>2</td>\n",
       "      <td>http://www.breitbart.com/big-journalism/2015/0...</td>\n",
       "      <td>Obama, Media Lied About Netanyahu and the Pale...</td>\n",
       "      <td>2015-03-20</td>\n",
       "      <td>Ben Shapiro</td>\n",
       "      <td>For the last several days , the entire Western...</td>\n",
       "      <td>For the last several days, the entire Western ...</td>\n",
       "      <td>www.breitbart.com</td>\n",
       "      <td>right</td>\n",
       "      <td>uI2K5BSCO0LaWuKb</td>\n",
       "      <td>2</td>\n",
       "    </tr>\n",
       "    <tr>\n",
       "      <th>1</th>\n",
       "      <td>federal_budget</td>\n",
       "      <td>ABC News</td>\n",
       "      <td>0</td>\n",
       "      <td>http://abcnews.go.com/blogs/politics/2013/03/w...</td>\n",
       "      <td>Will Fractured House Republicans Unite on Budget?</td>\n",
       "      <td>NaN</td>\n",
       "      <td>John Parkinson</td>\n",
       "      <td>Tomorrow morning , House Budget Chairman Paul ...</td>\n",
       "      <td>Jacquelyn Martin/AP Photo\\n\\nTomorrow morning,...</td>\n",
       "      <td>www.abcnews.go.com</td>\n",
       "      <td>left</td>\n",
       "      <td>zeSfcxLilzR0R1Dt</td>\n",
       "      <td>0</td>\n",
       "    </tr>\n",
       "    <tr>\n",
       "      <th>2</th>\n",
       "      <td>fbi</td>\n",
       "      <td>Reuters</td>\n",
       "      <td>1</td>\n",
       "      <td>https://www.reuters.com/article/us-usa-trump-r...</td>\n",
       "      <td>Trump blocks release of Russia memo drafted by...</td>\n",
       "      <td>2018-02-10</td>\n",
       "      <td>Ayesha Rascoe</td>\n",
       "      <td>WASHINGTON ( ███ ) - President Donald Trump on...</td>\n",
       "      <td>WASHINGTON (Reuters) - President Donald Trump ...</td>\n",
       "      <td>www.reuters.com</td>\n",
       "      <td>center</td>\n",
       "      <td>ru8kAxfdPzZc11le</td>\n",
       "      <td>0</td>\n",
       "    </tr>\n",
       "    <tr>\n",
       "      <th>3</th>\n",
       "      <td>politics</td>\n",
       "      <td>CBN</td>\n",
       "      <td>2</td>\n",
       "      <td>http://www1.cbn.com/cbnnews/politics/2019/febr...</td>\n",
       "      <td>Trump's North Korea Peace Talks Share Spotligh...</td>\n",
       "      <td>2019-02-25</td>\n",
       "      <td>NaN</td>\n",
       "      <td>President Donald Trump arrives in Hanoi , Viet...</td>\n",
       "      <td>President Donald Trump arrives in Hanoi, Vietn...</td>\n",
       "      <td>www1.cbn.com</td>\n",
       "      <td>right</td>\n",
       "      <td>TTt5FFmsW6ng3fsC</td>\n",
       "      <td>0</td>\n",
       "    </tr>\n",
       "    <tr>\n",
       "      <th>4</th>\n",
       "      <td>media_bias</td>\n",
       "      <td>Breitbart News</td>\n",
       "      <td>2</td>\n",
       "      <td>http://www.breitbart.com/big-government/2017/0...</td>\n",
       "      <td>Six Times President Trump Upset Jared Kushner ...</td>\n",
       "      <td>2017-08-20</td>\n",
       "      <td>Adam Shaw</td>\n",
       "      <td>President Trump ’ s fiery response to the even...</td>\n",
       "      <td>President Trump’s fiery response to the events...</td>\n",
       "      <td>www.breitbart.com</td>\n",
       "      <td>right</td>\n",
       "      <td>gYKaZGjLCYdEghTZ</td>\n",
       "      <td>2</td>\n",
       "    </tr>\n",
       "    <tr>\n",
       "      <th>...</th>\n",
       "      <td>...</td>\n",
       "      <td>...</td>\n",
       "      <td>...</td>\n",
       "      <td>...</td>\n",
       "      <td>...</td>\n",
       "      <td>...</td>\n",
       "      <td>...</td>\n",
       "      <td>...</td>\n",
       "      <td>...</td>\n",
       "      <td>...</td>\n",
       "      <td>...</td>\n",
       "      <td>...</td>\n",
       "      <td>...</td>\n",
       "    </tr>\n",
       "    <tr>\n",
       "      <th>1295</th>\n",
       "      <td>politics</td>\n",
       "      <td>CBN</td>\n",
       "      <td>2</td>\n",
       "      <td>http://www1.cbn.com/cbnnews/politics/2018/augu...</td>\n",
       "      <td>America 'Was Never that Great': NY Gov. Andrew...</td>\n",
       "      <td>2018-08-16</td>\n",
       "      <td>NaN</td>\n",
       "      <td>New York Gov . Andrew Cuomo surprised an audie...</td>\n",
       "      <td>New York Gov. Andrew Cuomo surprised an audien...</td>\n",
       "      <td>www1.cbn.com</td>\n",
       "      <td>right</td>\n",
       "      <td>tx0ljfh22jS6RtHp</td>\n",
       "      <td>2</td>\n",
       "    </tr>\n",
       "    <tr>\n",
       "      <th>1296</th>\n",
       "      <td>fbi</td>\n",
       "      <td>Salon</td>\n",
       "      <td>0</td>\n",
       "      <td>http://www.salon.com/2017/05/10/the-fbi-is-ree...</td>\n",
       "      <td>The FBI is reeling from shock of Comey’s unexp...</td>\n",
       "      <td>2017-05-10</td>\n",
       "      <td>Matthew Rozsa</td>\n",
       "      <td>Agents who work for the FBI are reported to be...</td>\n",
       "      <td>Agents who work for the FBI are reported to be...</td>\n",
       "      <td>www.salon.com</td>\n",
       "      <td>left</td>\n",
       "      <td>HFWrdvZbzVjgJU81</td>\n",
       "      <td>1</td>\n",
       "    </tr>\n",
       "    <tr>\n",
       "      <th>1297</th>\n",
       "      <td>politics</td>\n",
       "      <td>Newsmax</td>\n",
       "      <td>2</td>\n",
       "      <td>http://www.newsmax.com/Newsfront/loretta-lynch...</td>\n",
       "      <td>Human-Trafficking Bill Fight Could Hold Up Lor...</td>\n",
       "      <td>2015-03-15</td>\n",
       "      <td>NaN</td>\n",
       "      <td>The U.S. Senate majority leader said Sunday he...</td>\n",
       "      <td>The U.S. Senate majority leader said Sunday he...</td>\n",
       "      <td>www.newsmax.com</td>\n",
       "      <td>right</td>\n",
       "      <td>EpeNKrMWiScat2Hm</td>\n",
       "      <td>0</td>\n",
       "    </tr>\n",
       "    <tr>\n",
       "      <th>1298</th>\n",
       "      <td>media_bias</td>\n",
       "      <td>The Daily Caller</td>\n",
       "      <td>2</td>\n",
       "      <td>http://dailycaller.com/2016/11/30/fake-news-me...</td>\n",
       "      <td>Fake News: Media Pushes Bogus Survey As Proof ...</td>\n",
       "      <td>2016-11-30</td>\n",
       "      <td>NaN</td>\n",
       "      <td>Multiple U.S. media outlets are citing an onli...</td>\n",
       "      <td>Multiple U.S. media outlets are citing an onli...</td>\n",
       "      <td>www.dailycaller.com</td>\n",
       "      <td>right</td>\n",
       "      <td>o2fN4uERGL363uh0</td>\n",
       "      <td>1</td>\n",
       "    </tr>\n",
       "    <tr>\n",
       "      <th>1299</th>\n",
       "      <td>race_and_racism</td>\n",
       "      <td>Associated Press</td>\n",
       "      <td>1</td>\n",
       "      <td>https://apnews.com/697d654ea64f3370f373aacfca2...</td>\n",
       "      <td>US cities gird for more violence as Trump decr...</td>\n",
       "      <td>2020-06-02</td>\n",
       "      <td>Zeke Miller, Tim Sullivan</td>\n",
       "      <td>With the White House in the background , a lin...</td>\n",
       "      <td>With the White House in the background, a line...</td>\n",
       "      <td>www.apnews.com</td>\n",
       "      <td>center</td>\n",
       "      <td>UYCZ1NDiINeCpV41</td>\n",
       "      <td>0</td>\n",
       "    </tr>\n",
       "  </tbody>\n",
       "</table>\n",
       "<p>1300 rows × 13 columns</p>\n",
       "</div>"
      ],
      "text/plain": [
       "                topic            source  bias  \\\n",
       "0           palestine    Breitbart News     2   \n",
       "1      federal_budget          ABC News     0   \n",
       "2                 fbi           Reuters     1   \n",
       "3            politics               CBN     2   \n",
       "4          media_bias    Breitbart News     2   \n",
       "...               ...               ...   ...   \n",
       "1295         politics               CBN     2   \n",
       "1296              fbi             Salon     0   \n",
       "1297         politics           Newsmax     2   \n",
       "1298       media_bias  The Daily Caller     2   \n",
       "1299  race_and_racism  Associated Press     1   \n",
       "\n",
       "                                                    url  \\\n",
       "0     http://www.breitbart.com/big-journalism/2015/0...   \n",
       "1     http://abcnews.go.com/blogs/politics/2013/03/w...   \n",
       "2     https://www.reuters.com/article/us-usa-trump-r...   \n",
       "3     http://www1.cbn.com/cbnnews/politics/2019/febr...   \n",
       "4     http://www.breitbart.com/big-government/2017/0...   \n",
       "...                                                 ...   \n",
       "1295  http://www1.cbn.com/cbnnews/politics/2018/augu...   \n",
       "1296  http://www.salon.com/2017/05/10/the-fbi-is-ree...   \n",
       "1297  http://www.newsmax.com/Newsfront/loretta-lynch...   \n",
       "1298  http://dailycaller.com/2016/11/30/fake-news-me...   \n",
       "1299  https://apnews.com/697d654ea64f3370f373aacfca2...   \n",
       "\n",
       "                                                  title        date  \\\n",
       "0     Obama, Media Lied About Netanyahu and the Pale...  2015-03-20   \n",
       "1     Will Fractured House Republicans Unite on Budget?         NaN   \n",
       "2     Trump blocks release of Russia memo drafted by...  2018-02-10   \n",
       "3     Trump's North Korea Peace Talks Share Spotligh...  2019-02-25   \n",
       "4     Six Times President Trump Upset Jared Kushner ...  2017-08-20   \n",
       "...                                                 ...         ...   \n",
       "1295  America 'Was Never that Great': NY Gov. Andrew...  2018-08-16   \n",
       "1296  The FBI is reeling from shock of Comey’s unexp...  2017-05-10   \n",
       "1297  Human-Trafficking Bill Fight Could Hold Up Lor...  2015-03-15   \n",
       "1298  Fake News: Media Pushes Bogus Survey As Proof ...  2016-11-30   \n",
       "1299  US cities gird for more violence as Trump decr...  2020-06-02   \n",
       "\n",
       "                        authors  \\\n",
       "0                   Ben Shapiro   \n",
       "1                John Parkinson   \n",
       "2                 Ayesha Rascoe   \n",
       "3                           NaN   \n",
       "4                     Adam Shaw   \n",
       "...                         ...   \n",
       "1295                        NaN   \n",
       "1296              Matthew Rozsa   \n",
       "1297                        NaN   \n",
       "1298                        NaN   \n",
       "1299  Zeke Miller, Tim Sullivan   \n",
       "\n",
       "                                                content  \\\n",
       "0     For the last several days , the entire Western...   \n",
       "1     Tomorrow morning , House Budget Chairman Paul ...   \n",
       "2     WASHINGTON ( ███ ) - President Donald Trump on...   \n",
       "3     President Donald Trump arrives in Hanoi , Viet...   \n",
       "4     President Trump ’ s fiery response to the even...   \n",
       "...                                                 ...   \n",
       "1295  New York Gov . Andrew Cuomo surprised an audie...   \n",
       "1296  Agents who work for the FBI are reported to be...   \n",
       "1297  The U.S. Senate majority leader said Sunday he...   \n",
       "1298  Multiple U.S. media outlets are citing an onli...   \n",
       "1299  With the White House in the background , a lin...   \n",
       "\n",
       "                                       content_original           source_url  \\\n",
       "0     For the last several days, the entire Western ...    www.breitbart.com   \n",
       "1     Jacquelyn Martin/AP Photo\\n\\nTomorrow morning,...   www.abcnews.go.com   \n",
       "2     WASHINGTON (Reuters) - President Donald Trump ...      www.reuters.com   \n",
       "3     President Donald Trump arrives in Hanoi, Vietn...         www1.cbn.com   \n",
       "4     President Trump’s fiery response to the events...    www.breitbart.com   \n",
       "...                                                 ...                  ...   \n",
       "1295  New York Gov. Andrew Cuomo surprised an audien...         www1.cbn.com   \n",
       "1296  Agents who work for the FBI are reported to be...        www.salon.com   \n",
       "1297  The U.S. Senate majority leader said Sunday he...      www.newsmax.com   \n",
       "1298  Multiple U.S. media outlets are citing an onli...  www.dailycaller.com   \n",
       "1299  With the White House in the background, a line...       www.apnews.com   \n",
       "\n",
       "     bias_text                ID  pred_labels  \n",
       "0        right  uI2K5BSCO0LaWuKb            2  \n",
       "1         left  zeSfcxLilzR0R1Dt            0  \n",
       "2       center  ru8kAxfdPzZc11le            0  \n",
       "3        right  TTt5FFmsW6ng3fsC            0  \n",
       "4        right  gYKaZGjLCYdEghTZ            2  \n",
       "...        ...               ...          ...  \n",
       "1295     right  tx0ljfh22jS6RtHp            2  \n",
       "1296      left  HFWrdvZbzVjgJU81            1  \n",
       "1297     right  EpeNKrMWiScat2Hm            0  \n",
       "1298     right  o2fN4uERGL363uh0            1  \n",
       "1299    center  UYCZ1NDiINeCpV41            0  \n",
       "\n",
       "[1300 rows x 13 columns]"
      ]
     },
     "execution_count": 10,
     "metadata": {},
     "output_type": "execute_result"
    }
   ],
   "source": [
    "test_dataset = pd.read_table(\"sourcelevel_test_dataset.csv\",  index_col=0)\n",
    "test_dataset = test_dataset[:8000]\n",
    "test_dataset"
   ]
  },
  {
   "cell_type": "code",
   "execution_count": 11,
   "metadata": {},
   "outputs": [],
   "source": [
    "import pickle"
   ]
  },
  {
   "cell_type": "code",
   "execution_count": 21,
   "metadata": {},
   "outputs": [],
   "source": [
    "y_pred = pickle.load(open(\"pred_y_labels_TFIDF_source.pickle\", \"rb\"))\n",
    "test_labels = pickle.load(open(\"real_y_labels_TFIDF_source.pickle\", \"rb\"))\n"
   ]
  },
  {
   "cell_type": "code",
   "execution_count": null,
   "metadata": {},
   "outputs": [],
   "source": []
  },
  {
   "cell_type": "code",
   "execution_count": 22,
   "metadata": {},
   "outputs": [],
   "source": [
    "test_dataset[\"real_labels\"] =test_labels\n",
    "test_dataset[\"pred_labels\"] =y_pred\n"
   ]
  },
  {
   "cell_type": "code",
   "execution_count": null,
   "metadata": {},
   "outputs": [],
   "source": [
    "# 0 is center\n",
    "# 1 is left\n",
    "# 2 is right"
   ]
  },
  {
   "cell_type": "code",
   "execution_count": 23,
   "metadata": {},
   "outputs": [
    {
     "data": {
      "text/plain": [
       "<AxesSubplot:>"
      ]
     },
     "execution_count": 23,
     "metadata": {},
     "output_type": "execute_result"
    },
    {
     "data": {
      "image/png": "[encoded data removed]",
      "text/plain": [
       "<Figure size 432x288 with 1 Axes>"
      ]
     },
     "metadata": {
      "needs_background": "light"
     },
     "output_type": "display_data"
    }
   ],
   "source": [
    "test_dataset[\"pred_labels\"].value_counts().plot.bar()"
   ]
  },
  {
   "cell_type": "code",
   "execution_count": 24,
   "metadata": {},
   "outputs": [
    {
     "data": {
      "text/plain": [
       "<AxesSubplot:>"
      ]
     },
     "execution_count": 24,
     "metadata": {},
     "output_type": "execute_result"
    },
    {
     "data": {
      "image/png": "[encoded data removed]",
      "text/plain": [
       "<Figure size 432x288 with 1 Axes>"
      ]
     },
     "metadata": {
      "needs_background": "light"
     },
     "output_type": "display_data"
    }
   ],
   "source": [
    "test_dataset[\"real_labels\"].value_counts().plot.bar()"
   ]
  },
  {
   "cell_type": "code",
   "execution_count": 25,
   "metadata": {},
   "outputs": [
    {
     "data": {
      "text/plain": [
       "<AxesSubplot:>"
      ]
     },
     "execution_count": 25,
     "metadata": {},
     "output_type": "execute_result"
    },
    {
     "data": {
      "image/png": "[encoded data removed]",
      "text/plain": [
       "<Figure size 432x288 with 1 Axes>"
      ]
     },
     "metadata": {
      "needs_background": "light"
     },
     "output_type": "display_data"
    }
   ],
   "source": [
    "test_dataset[test_dataset[\"real_labels\"]==0][\"pred_labels\"].value_counts().plot.bar()"
   ]
  },
  {
   "cell_type": "code",
   "execution_count": 26,
   "metadata": {},
   "outputs": [
    {
     "data": {
      "text/plain": [
       "<AxesSubplot:>"
      ]
     },
     "execution_count": 26,
     "metadata": {},
     "output_type": "execute_result"
    },
    {
     "data": {
      "image/png": "[encoded data removed]",
      "text/plain": [
       "<Figure size 432x288 with 1 Axes>"
      ]
     },
     "metadata": {
      "needs_background": "light"
     },
     "output_type": "display_data"
    }
   ],
   "source": [
    "test_dataset[test_dataset[\"real_labels\"]==1][\"pred_labels\"].value_counts().plot.bar()"
   ]
  },
  {
   "cell_type": "code",
   "execution_count": 27,
   "metadata": {},
   "outputs": [
    {
     "data": {
      "text/plain": [
       "<AxesSubplot:>"
      ]
     },
     "execution_count": 27,
     "metadata": {},
     "output_type": "execute_result"
    },
    {
     "data": {
      "image/png": "[encoded data removed]",
      "text/plain": [
       "<Figure size 432x288 with 1 Axes>"
      ]
     },
     "metadata": {
      "needs_background": "light"
     },
     "output_type": "display_data"
    }
   ],
   "source": [
    "test_dataset[test_dataset[\"real_labels\"]==2][\"pred_labels\"].value_counts().plot.bar()"
   ]
  },
  {
   "cell_type": "code",
   "execution_count": 28,
   "metadata": {},
   "outputs": [
    {
     "data": {
      "text/plain": [
       "0.6792307692307692"
      ]
     },
     "execution_count": 28,
     "metadata": {},
     "output_type": "execute_result"
    }
   ],
   "source": [
    "from sklearn.metrics import accuracy_score\n",
    "\n",
    "accuracy_score(test_dataset[\"real_labels\"], test_dataset[\"pred_labels\"])"
   ]
  },
  {
   "cell_type": "code",
   "execution_count": null,
   "metadata": {},
   "outputs": [],
   "source": []
  }
 ],
 "metadata": {
  "kernelspec": {
   "display_name": "Python 3",
   "language": "python",
   "name": "python3"
  },
  "language_info": {
   "codemirror_mode": {
    "name": "ipython",
    "version": 3
   },
   "file_extension": ".py",
   "mimetype": "text/x-python",
   "name": "python",
   "nbconvert_exporter": "python",
   "pygments_lexer": "ipython3",
   "version": "3.8.5"
  }
 },
 "nbformat": 4,
 "nbformat_minor": 5
}
