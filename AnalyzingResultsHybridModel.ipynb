{
 "cells": [
  {
   "cell_type": "code",
   "execution_count": 2,
   "metadata": {},
   "outputs": [],
   "source": [
    "import json\n",
    "import pandas as pd\n",
    "import numpy as np\n",
    "import os\n",
    "import sys\n",
    "import tensorflow as tf\n",
    "from time import time\n",
    "import io\n",
    "import re\n",
    "\n",
    "import pickle\n",
    "from csv import reader\n",
    "import matplotlib.pyplot as plt\n",
    "\n",
    "import matplotlib.pyplot as plt\n",
    "from matplotlib import colors\n",
    "from matplotlib.ticker import PercentFormatter\n",
    "\n",
    "from tensorflow.keras import layers\n",
    "from tensorflow.keras.backend import sparse_categorical_crossentropy\n",
    "from tensorflow.keras.layers import Dense, Flatten\n",
    "from tensorflow.keras.utils import plot_model\n",
    "\n",
    "# physical_devices = tf.config.list_physical_devices('GPU') \n",
    "# tf.config.experimental.set_memory_growth(physical_devices[0], True)\n",
    "\n",
    "from datetime import datetime\n",
    "from collections import defaultdict\n",
    "\n",
    "from sklearn.model_selection import train_test_split\n",
    "\n"
   ]
  },
  {
   "cell_type": "code",
   "execution_count": 3,
   "metadata": {},
   "outputs": [
    {
     "name": "stdout",
     "output_type": "stream",
     "text": [
      "Num GPUs Available:  1\n"
     ]
    }
   ],
   "source": [
    "print(\"Num GPUs Available: \", len(tf.config.experimental.list_physical_devices('GPU')))"
   ]
  },
  {
   "cell_type": "code",
   "execution_count": 4,
   "metadata": {},
   "outputs": [
    {
     "data": {
      "text/plain": [
       "[PhysicalDevice(name='/physical_device:CPU:0', device_type='CPU'),\n",
       " PhysicalDevice(name='/physical_device:GPU:0', device_type='GPU')]"
      ]
     },
     "execution_count": 4,
     "metadata": {},
     "output_type": "execute_result"
    }
   ],
   "source": [
    "tf.config.list_physical_devices()"
   ]
  },
  {
   "cell_type": "code",
   "execution_count": 5,
   "metadata": {},
   "outputs": [],
   "source": [
    "from transformers import TFXLNetForSequenceClassification, XLNetTokenizer"
   ]
  },
  {
   "cell_type": "markdown",
   "metadata": {},
   "source": [
    "## Data"
   ]
  },
  {
   "cell_type": "code",
   "execution_count": 8,
   "metadata": {},
   "outputs": [
    {
     "data": {
      "text/html": [
       "<div>\n",
       "<style scoped>\n",
       "    .dataframe tbody tr th:only-of-type {\n",
       "        vertical-align: middle;\n",
       "    }\n",
       "\n",
       "    .dataframe tbody tr th {\n",
       "        vertical-align: top;\n",
       "    }\n",
       "\n",
       "    .dataframe thead th {\n",
       "        text-align: right;\n",
       "    }\n",
       "</style>\n",
       "<table border=\"1\" class=\"dataframe\">\n",
       "  <thead>\n",
       "    <tr style=\"text-align: right;\">\n",
       "      <th></th>\n",
       "      <th>topic</th>\n",
       "      <th>source</th>\n",
       "      <th>bias</th>\n",
       "      <th>url</th>\n",
       "      <th>title</th>\n",
       "      <th>date</th>\n",
       "      <th>authors</th>\n",
       "      <th>content</th>\n",
       "      <th>content_original</th>\n",
       "      <th>source_url</th>\n",
       "      <th>bias_text</th>\n",
       "      <th>ID</th>\n",
       "      <th>pred_labels</th>\n",
       "      <th>hybrid_label</th>\n",
       "      <th>hybrid_prob</th>\n",
       "      <th>hybrid_nn_probs</th>\n",
       "      <th>hybrid_tfidf_probs</th>\n",
       "    </tr>\n",
       "  </thead>\n",
       "  <tbody>\n",
       "    <tr>\n",
       "      <th>0</th>\n",
       "      <td>palestine</td>\n",
       "      <td>Breitbart News</td>\n",
       "      <td>2</td>\n",
       "      <td>http://www.breitbart.com/big-journalism/2015/0...</td>\n",
       "      <td>Obama, Media Lied About Netanyahu and the Pale...</td>\n",
       "      <td>2015-03-20</td>\n",
       "      <td>Ben Shapiro</td>\n",
       "      <td>For the last several days , the entire Western...</td>\n",
       "      <td>For the last several days, the entire Western ...</td>\n",
       "      <td>www.breitbart.com</td>\n",
       "      <td>right</td>\n",
       "      <td>uI2K5BSCO0LaWuKb</td>\n",
       "      <td>4</td>\n",
       "      <td>2</td>\n",
       "      <td>0.932278</td>\n",
       "      <td>[0.005442489869892597, 0.06227951869368553, 0....</td>\n",
       "      <td>[0.2019185656148889, 0.33856253449073165, 0.45...</td>\n",
       "    </tr>\n",
       "    <tr>\n",
       "      <th>1</th>\n",
       "      <td>federal_budget</td>\n",
       "      <td>ABC News</td>\n",
       "      <td>0</td>\n",
       "      <td>http://abcnews.go.com/blogs/politics/2013/03/w...</td>\n",
       "      <td>Will Fractured House Republicans Unite on Budget?</td>\n",
       "      <td>NaN</td>\n",
       "      <td>John Parkinson</td>\n",
       "      <td>Tomorrow morning , House Budget Chairman Paul ...</td>\n",
       "      <td>Jacquelyn Martin/AP Photo\\n\\nTomorrow morning,...</td>\n",
       "      <td>www.abcnews.go.com</td>\n",
       "      <td>left</td>\n",
       "      <td>zeSfcxLilzR0R1Dt</td>\n",
       "      <td>4</td>\n",
       "      <td>0</td>\n",
       "      <td>0.554609</td>\n",
       "      <td>[0.5546085238456726, 0.19034647941589355, 0.25...</td>\n",
       "      <td>[0.22396259845512798, 0.3365162631639265, 0.43...</td>\n",
       "    </tr>\n",
       "    <tr>\n",
       "      <th>2</th>\n",
       "      <td>fbi</td>\n",
       "      <td>Reuters</td>\n",
       "      <td>1</td>\n",
       "      <td>https://www.reuters.com/article/us-usa-trump-r...</td>\n",
       "      <td>Trump blocks release of Russia memo drafted by...</td>\n",
       "      <td>2018-02-10</td>\n",
       "      <td>Ayesha Rascoe</td>\n",
       "      <td>WASHINGTON ( ███ ) - President Donald Trump on...</td>\n",
       "      <td>WASHINGTON (Reuters) - President Donald Trump ...</td>\n",
       "      <td>www.reuters.com</td>\n",
       "      <td>center</td>\n",
       "      <td>ru8kAxfdPzZc11le</td>\n",
       "      <td>4</td>\n",
       "      <td>0</td>\n",
       "      <td>0.999660</td>\n",
       "      <td>[0.9996604919433594, 6.564209616044536e-05, 0....</td>\n",
       "      <td>[0.33335247222947717, 0.25433261654571443, 0.4...</td>\n",
       "    </tr>\n",
       "    <tr>\n",
       "      <th>3</th>\n",
       "      <td>politics</td>\n",
       "      <td>CBN</td>\n",
       "      <td>2</td>\n",
       "      <td>http://www1.cbn.com/cbnnews/politics/2019/febr...</td>\n",
       "      <td>Trump's North Korea Peace Talks Share Spotligh...</td>\n",
       "      <td>2019-02-25</td>\n",
       "      <td>NaN</td>\n",
       "      <td>President Donald Trump arrives in Hanoi , Viet...</td>\n",
       "      <td>President Donald Trump arrives in Hanoi, Vietn...</td>\n",
       "      <td>www1.cbn.com</td>\n",
       "      <td>right</td>\n",
       "      <td>TTt5FFmsW6ng3fsC</td>\n",
       "      <td>4</td>\n",
       "      <td>0</td>\n",
       "      <td>0.947262</td>\n",
       "      <td>[0.9472617506980896, 0.0005362341180443764, 0....</td>\n",
       "      <td>[0.2630276689756886, 0.29193362807534673, 0.44...</td>\n",
       "    </tr>\n",
       "    <tr>\n",
       "      <th>4</th>\n",
       "      <td>media_bias</td>\n",
       "      <td>Breitbart News</td>\n",
       "      <td>2</td>\n",
       "      <td>http://www.breitbart.com/big-government/2017/0...</td>\n",
       "      <td>Six Times President Trump Upset Jared Kushner ...</td>\n",
       "      <td>2017-08-20</td>\n",
       "      <td>Adam Shaw</td>\n",
       "      <td>President Trump ’ s fiery response to the even...</td>\n",
       "      <td>President Trump’s fiery response to the events...</td>\n",
       "      <td>www.breitbart.com</td>\n",
       "      <td>right</td>\n",
       "      <td>gYKaZGjLCYdEghTZ</td>\n",
       "      <td>4</td>\n",
       "      <td>2</td>\n",
       "      <td>0.998557</td>\n",
       "      <td>[0.000647720939014107, 0.0007950758445076644, ...</td>\n",
       "      <td>[0.30407980649538496, 0.27718891923173106, 0.4...</td>\n",
       "    </tr>\n",
       "  </tbody>\n",
       "</table>\n",
       "</div>"
      ],
      "text/plain": [
       "            topic          source  bias  \\\n",
       "0       palestine  Breitbart News     2   \n",
       "1  federal_budget        ABC News     0   \n",
       "2             fbi         Reuters     1   \n",
       "3        politics             CBN     2   \n",
       "4      media_bias  Breitbart News     2   \n",
       "\n",
       "                                                 url  \\\n",
       "0  http://www.breitbart.com/big-journalism/2015/0...   \n",
       "1  http://abcnews.go.com/blogs/politics/2013/03/w...   \n",
       "2  https://www.reuters.com/article/us-usa-trump-r...   \n",
       "3  http://www1.cbn.com/cbnnews/politics/2019/febr...   \n",
       "4  http://www.breitbart.com/big-government/2017/0...   \n",
       "\n",
       "                                               title        date  \\\n",
       "0  Obama, Media Lied About Netanyahu and the Pale...  2015-03-20   \n",
       "1  Will Fractured House Republicans Unite on Budget?         NaN   \n",
       "2  Trump blocks release of Russia memo drafted by...  2018-02-10   \n",
       "3  Trump's North Korea Peace Talks Share Spotligh...  2019-02-25   \n",
       "4  Six Times President Trump Upset Jared Kushner ...  2017-08-20   \n",
       "\n",
       "          authors                                            content  \\\n",
       "0     Ben Shapiro  For the last several days , the entire Western...   \n",
       "1  John Parkinson  Tomorrow morning , House Budget Chairman Paul ...   \n",
       "2   Ayesha Rascoe  WASHINGTON ( ███ ) - President Donald Trump on...   \n",
       "3             NaN  President Donald Trump arrives in Hanoi , Viet...   \n",
       "4       Adam Shaw  President Trump ’ s fiery response to the even...   \n",
       "\n",
       "                                    content_original          source_url  \\\n",
       "0  For the last several days, the entire Western ...   www.breitbart.com   \n",
       "1  Jacquelyn Martin/AP Photo\\n\\nTomorrow morning,...  www.abcnews.go.com   \n",
       "2  WASHINGTON (Reuters) - President Donald Trump ...     www.reuters.com   \n",
       "3  President Donald Trump arrives in Hanoi, Vietn...        www1.cbn.com   \n",
       "4  President Trump’s fiery response to the events...   www.breitbart.com   \n",
       "\n",
       "  bias_text                ID  pred_labels  hybrid_label  hybrid_prob  \\\n",
       "0     right  uI2K5BSCO0LaWuKb            4             2     0.932278   \n",
       "1      left  zeSfcxLilzR0R1Dt            4             0     0.554609   \n",
       "2    center  ru8kAxfdPzZc11le            4             0     0.999660   \n",
       "3     right  TTt5FFmsW6ng3fsC            4             0     0.947262   \n",
       "4     right  gYKaZGjLCYdEghTZ            4             2     0.998557   \n",
       "\n",
       "                                     hybrid_nn_probs  \\\n",
       "0  [0.005442489869892597, 0.06227951869368553, 0....   \n",
       "1  [0.5546085238456726, 0.19034647941589355, 0.25...   \n",
       "2  [0.9996604919433594, 6.564209616044536e-05, 0....   \n",
       "3  [0.9472617506980896, 0.0005362341180443764, 0....   \n",
       "4  [0.000647720939014107, 0.0007950758445076644, ...   \n",
       "\n",
       "                                  hybrid_tfidf_probs  \n",
       "0  [0.2019185656148889, 0.33856253449073165, 0.45...  \n",
       "1  [0.22396259845512798, 0.3365162631639265, 0.43...  \n",
       "2  [0.33335247222947717, 0.25433261654571443, 0.4...  \n",
       "3  [0.2630276689756886, 0.29193362807534673, 0.44...  \n",
       "4  [0.30407980649538496, 0.27718891923173106, 0.4...  "
      ]
     },
     "execution_count": 8,
     "metadata": {},
     "output_type": "execute_result"
    }
   ],
   "source": [
    "sourcetestdata_hybridoutput = pd.read_csv(\"sourcetestdata_hybridoutput.csv\")\n",
    "sourcetestdata_hybridoutput.head()"
   ]
  },
  {
   "cell_type": "code",
   "execution_count": 23,
   "metadata": {},
   "outputs": [
    {
     "data": {
      "text/html": [
       "<div>\n",
       "<style scoped>\n",
       "    .dataframe tbody tr th:only-of-type {\n",
       "        vertical-align: middle;\n",
       "    }\n",
       "\n",
       "    .dataframe tbody tr th {\n",
       "        vertical-align: top;\n",
       "    }\n",
       "\n",
       "    .dataframe thead th {\n",
       "        text-align: right;\n",
       "    }\n",
       "</style>\n",
       "<table border=\"1\" class=\"dataframe\">\n",
       "  <thead>\n",
       "    <tr style=\"text-align: right;\">\n",
       "      <th></th>\n",
       "      <th>topic</th>\n",
       "      <th>source</th>\n",
       "      <th>bias</th>\n",
       "      <th>url</th>\n",
       "      <th>title</th>\n",
       "      <th>date</th>\n",
       "      <th>authors</th>\n",
       "      <th>content</th>\n",
       "      <th>content_original</th>\n",
       "      <th>source_url</th>\n",
       "      <th>bias_text</th>\n",
       "      <th>ID</th>\n",
       "      <th>pred_labels</th>\n",
       "      <th>hybrid_label</th>\n",
       "      <th>hybrid_prob</th>\n",
       "      <th>hybrid_nn_probs</th>\n",
       "      <th>hybrid_tfidf_probs</th>\n",
       "      <th>real_labels</th>\n",
       "    </tr>\n",
       "  </thead>\n",
       "  <tbody>\n",
       "    <tr>\n",
       "      <th>0</th>\n",
       "      <td>palestine</td>\n",
       "      <td>Breitbart News</td>\n",
       "      <td>2</td>\n",
       "      <td>http://www.breitbart.com/big-journalism/2015/0...</td>\n",
       "      <td>Obama, Media Lied About Netanyahu and the Pale...</td>\n",
       "      <td>2015-03-20</td>\n",
       "      <td>Ben Shapiro</td>\n",
       "      <td>For the last several days , the entire Western...</td>\n",
       "      <td>For the last several days, the entire Western ...</td>\n",
       "      <td>www.breitbart.com</td>\n",
       "      <td>right</td>\n",
       "      <td>uI2K5BSCO0LaWuKb</td>\n",
       "      <td>4</td>\n",
       "      <td>2</td>\n",
       "      <td>0.932278</td>\n",
       "      <td>[0.005442489869892597, 0.06227951869368553, 0....</td>\n",
       "      <td>[0.2019185656148889, 0.33856253449073165, 0.45...</td>\n",
       "      <td>2</td>\n",
       "    </tr>\n",
       "    <tr>\n",
       "      <th>1</th>\n",
       "      <td>federal_budget</td>\n",
       "      <td>ABC News</td>\n",
       "      <td>0</td>\n",
       "      <td>http://abcnews.go.com/blogs/politics/2013/03/w...</td>\n",
       "      <td>Will Fractured House Republicans Unite on Budget?</td>\n",
       "      <td>NaN</td>\n",
       "      <td>John Parkinson</td>\n",
       "      <td>Tomorrow morning , House Budget Chairman Paul ...</td>\n",
       "      <td>Jacquelyn Martin/AP Photo\\n\\nTomorrow morning,...</td>\n",
       "      <td>www.abcnews.go.com</td>\n",
       "      <td>left</td>\n",
       "      <td>zeSfcxLilzR0R1Dt</td>\n",
       "      <td>4</td>\n",
       "      <td>0</td>\n",
       "      <td>0.554609</td>\n",
       "      <td>[0.5546085238456726, 0.19034647941589355, 0.25...</td>\n",
       "      <td>[0.22396259845512798, 0.3365162631639265, 0.43...</td>\n",
       "      <td>1</td>\n",
       "    </tr>\n",
       "    <tr>\n",
       "      <th>2</th>\n",
       "      <td>fbi</td>\n",
       "      <td>Reuters</td>\n",
       "      <td>1</td>\n",
       "      <td>https://www.reuters.com/article/us-usa-trump-r...</td>\n",
       "      <td>Trump blocks release of Russia memo drafted by...</td>\n",
       "      <td>2018-02-10</td>\n",
       "      <td>Ayesha Rascoe</td>\n",
       "      <td>WASHINGTON ( ███ ) - President Donald Trump on...</td>\n",
       "      <td>WASHINGTON (Reuters) - President Donald Trump ...</td>\n",
       "      <td>www.reuters.com</td>\n",
       "      <td>center</td>\n",
       "      <td>ru8kAxfdPzZc11le</td>\n",
       "      <td>4</td>\n",
       "      <td>0</td>\n",
       "      <td>0.999660</td>\n",
       "      <td>[0.9996604919433594, 6.564209616044536e-05, 0....</td>\n",
       "      <td>[0.33335247222947717, 0.25433261654571443, 0.4...</td>\n",
       "      <td>0</td>\n",
       "    </tr>\n",
       "    <tr>\n",
       "      <th>3</th>\n",
       "      <td>politics</td>\n",
       "      <td>CBN</td>\n",
       "      <td>2</td>\n",
       "      <td>http://www1.cbn.com/cbnnews/politics/2019/febr...</td>\n",
       "      <td>Trump's North Korea Peace Talks Share Spotligh...</td>\n",
       "      <td>2019-02-25</td>\n",
       "      <td>NaN</td>\n",
       "      <td>President Donald Trump arrives in Hanoi , Viet...</td>\n",
       "      <td>President Donald Trump arrives in Hanoi, Vietn...</td>\n",
       "      <td>www1.cbn.com</td>\n",
       "      <td>right</td>\n",
       "      <td>TTt5FFmsW6ng3fsC</td>\n",
       "      <td>4</td>\n",
       "      <td>0</td>\n",
       "      <td>0.947262</td>\n",
       "      <td>[0.9472617506980896, 0.0005362341180443764, 0....</td>\n",
       "      <td>[0.2630276689756886, 0.29193362807534673, 0.44...</td>\n",
       "      <td>2</td>\n",
       "    </tr>\n",
       "    <tr>\n",
       "      <th>4</th>\n",
       "      <td>media_bias</td>\n",
       "      <td>Breitbart News</td>\n",
       "      <td>2</td>\n",
       "      <td>http://www.breitbart.com/big-government/2017/0...</td>\n",
       "      <td>Six Times President Trump Upset Jared Kushner ...</td>\n",
       "      <td>2017-08-20</td>\n",
       "      <td>Adam Shaw</td>\n",
       "      <td>President Trump ’ s fiery response to the even...</td>\n",
       "      <td>President Trump’s fiery response to the events...</td>\n",
       "      <td>www.breitbart.com</td>\n",
       "      <td>right</td>\n",
       "      <td>gYKaZGjLCYdEghTZ</td>\n",
       "      <td>4</td>\n",
       "      <td>2</td>\n",
       "      <td>0.998557</td>\n",
       "      <td>[0.000647720939014107, 0.0007950758445076644, ...</td>\n",
       "      <td>[0.30407980649538496, 0.27718891923173106, 0.4...</td>\n",
       "      <td>2</td>\n",
       "    </tr>\n",
       "    <tr>\n",
       "      <th>...</th>\n",
       "      <td>...</td>\n",
       "      <td>...</td>\n",
       "      <td>...</td>\n",
       "      <td>...</td>\n",
       "      <td>...</td>\n",
       "      <td>...</td>\n",
       "      <td>...</td>\n",
       "      <td>...</td>\n",
       "      <td>...</td>\n",
       "      <td>...</td>\n",
       "      <td>...</td>\n",
       "      <td>...</td>\n",
       "      <td>...</td>\n",
       "      <td>...</td>\n",
       "      <td>...</td>\n",
       "      <td>...</td>\n",
       "      <td>...</td>\n",
       "      <td>...</td>\n",
       "    </tr>\n",
       "    <tr>\n",
       "      <th>1295</th>\n",
       "      <td>politics</td>\n",
       "      <td>CBN</td>\n",
       "      <td>2</td>\n",
       "      <td>http://www1.cbn.com/cbnnews/politics/2018/augu...</td>\n",
       "      <td>America 'Was Never that Great': NY Gov. Andrew...</td>\n",
       "      <td>2018-08-16</td>\n",
       "      <td>NaN</td>\n",
       "      <td>New York Gov . Andrew Cuomo surprised an audie...</td>\n",
       "      <td>New York Gov. Andrew Cuomo surprised an audien...</td>\n",
       "      <td>www1.cbn.com</td>\n",
       "      <td>right</td>\n",
       "      <td>tx0ljfh22jS6RtHp</td>\n",
       "      <td>4</td>\n",
       "      <td>2</td>\n",
       "      <td>0.993662</td>\n",
       "      <td>[0.0030844933353364468, 0.003253103932365775, ...</td>\n",
       "      <td>[0.28100792862504187, 0.27257147243018337, 0.4...</td>\n",
       "      <td>2</td>\n",
       "    </tr>\n",
       "    <tr>\n",
       "      <th>1296</th>\n",
       "      <td>fbi</td>\n",
       "      <td>Salon</td>\n",
       "      <td>0</td>\n",
       "      <td>http://www.salon.com/2017/05/10/the-fbi-is-ree...</td>\n",
       "      <td>The FBI is reeling from shock of Comey’s unexp...</td>\n",
       "      <td>2017-05-10</td>\n",
       "      <td>Matthew Rozsa</td>\n",
       "      <td>Agents who work for the FBI are reported to be...</td>\n",
       "      <td>Agents who work for the FBI are reported to be...</td>\n",
       "      <td>www.salon.com</td>\n",
       "      <td>left</td>\n",
       "      <td>HFWrdvZbzVjgJU81</td>\n",
       "      <td>4</td>\n",
       "      <td>1</td>\n",
       "      <td>0.861313</td>\n",
       "      <td>[0.1233455091714859, 0.8613126277923584, 0.015...</td>\n",
       "      <td>[0.2311350896316069, 0.287240128317674, 0.4816...</td>\n",
       "      <td>1</td>\n",
       "    </tr>\n",
       "    <tr>\n",
       "      <th>1297</th>\n",
       "      <td>politics</td>\n",
       "      <td>Newsmax</td>\n",
       "      <td>2</td>\n",
       "      <td>http://www.newsmax.com/Newsfront/loretta-lynch...</td>\n",
       "      <td>Human-Trafficking Bill Fight Could Hold Up Lor...</td>\n",
       "      <td>2015-03-15</td>\n",
       "      <td>NaN</td>\n",
       "      <td>The U.S. Senate majority leader said Sunday he...</td>\n",
       "      <td>The U.S. Senate majority leader said Sunday he...</td>\n",
       "      <td>www.newsmax.com</td>\n",
       "      <td>right</td>\n",
       "      <td>EpeNKrMWiScat2Hm</td>\n",
       "      <td>4</td>\n",
       "      <td>0</td>\n",
       "      <td>0.978195</td>\n",
       "      <td>[0.978195309638977, 0.005366988480091095, 0.01...</td>\n",
       "      <td>[0.17547747276695919, 0.44393763879719744, 0.3...</td>\n",
       "      <td>2</td>\n",
       "    </tr>\n",
       "    <tr>\n",
       "      <th>1298</th>\n",
       "      <td>media_bias</td>\n",
       "      <td>The Daily Caller</td>\n",
       "      <td>2</td>\n",
       "      <td>http://dailycaller.com/2016/11/30/fake-news-me...</td>\n",
       "      <td>Fake News: Media Pushes Bogus Survey As Proof ...</td>\n",
       "      <td>2016-11-30</td>\n",
       "      <td>NaN</td>\n",
       "      <td>Multiple U.S. media outlets are citing an onli...</td>\n",
       "      <td>Multiple U.S. media outlets are citing an onli...</td>\n",
       "      <td>www.dailycaller.com</td>\n",
       "      <td>right</td>\n",
       "      <td>o2fN4uERGL363uh0</td>\n",
       "      <td>4</td>\n",
       "      <td>1</td>\n",
       "      <td>0.724327</td>\n",
       "      <td>[0.02904820442199707, 0.7243269681930542, 0.24...</td>\n",
       "      <td>[0.23934055769317847, 0.30732813499120837, 0.4...</td>\n",
       "      <td>2</td>\n",
       "    </tr>\n",
       "    <tr>\n",
       "      <th>1299</th>\n",
       "      <td>race_and_racism</td>\n",
       "      <td>Associated Press</td>\n",
       "      <td>1</td>\n",
       "      <td>https://apnews.com/697d654ea64f3370f373aacfca2...</td>\n",
       "      <td>US cities gird for more violence as Trump decr...</td>\n",
       "      <td>2020-06-02</td>\n",
       "      <td>Zeke Miller, Tim Sullivan</td>\n",
       "      <td>With the White House in the background , a lin...</td>\n",
       "      <td>With the White House in the background, a line...</td>\n",
       "      <td>www.apnews.com</td>\n",
       "      <td>center</td>\n",
       "      <td>UYCZ1NDiINeCpV41</td>\n",
       "      <td>4</td>\n",
       "      <td>0</td>\n",
       "      <td>0.996020</td>\n",
       "      <td>[0.9960203766822815, 0.0012803003191947937, 0....</td>\n",
       "      <td>[0.3842848053299887, 0.3007503504942107, 0.314...</td>\n",
       "      <td>0</td>\n",
       "    </tr>\n",
       "  </tbody>\n",
       "</table>\n",
       "<p>1300 rows × 18 columns</p>\n",
       "</div>"
      ],
      "text/plain": [
       "                topic            source  bias  \\\n",
       "0           palestine    Breitbart News     2   \n",
       "1      federal_budget          ABC News     0   \n",
       "2                 fbi           Reuters     1   \n",
       "3            politics               CBN     2   \n",
       "4          media_bias    Breitbart News     2   \n",
       "...               ...               ...   ...   \n",
       "1295         politics               CBN     2   \n",
       "1296              fbi             Salon     0   \n",
       "1297         politics           Newsmax     2   \n",
       "1298       media_bias  The Daily Caller     2   \n",
       "1299  race_and_racism  Associated Press     1   \n",
       "\n",
       "                                                    url  \\\n",
       "0     http://www.breitbart.com/big-journalism/2015/0...   \n",
       "1     http://abcnews.go.com/blogs/politics/2013/03/w...   \n",
       "2     https://www.reuters.com/article/us-usa-trump-r...   \n",
       "3     http://www1.cbn.com/cbnnews/politics/2019/febr...   \n",
       "4     http://www.breitbart.com/big-government/2017/0...   \n",
       "...                                                 ...   \n",
       "1295  http://www1.cbn.com/cbnnews/politics/2018/augu...   \n",
       "1296  http://www.salon.com/2017/05/10/the-fbi-is-ree...   \n",
       "1297  http://www.newsmax.com/Newsfront/loretta-lynch...   \n",
       "1298  http://dailycaller.com/2016/11/30/fake-news-me...   \n",
       "1299  https://apnews.com/697d654ea64f3370f373aacfca2...   \n",
       "\n",
       "                                                  title        date  \\\n",
       "0     Obama, Media Lied About Netanyahu and the Pale...  2015-03-20   \n",
       "1     Will Fractured House Republicans Unite on Budget?         NaN   \n",
       "2     Trump blocks release of Russia memo drafted by...  2018-02-10   \n",
       "3     Trump's North Korea Peace Talks Share Spotligh...  2019-02-25   \n",
       "4     Six Times President Trump Upset Jared Kushner ...  2017-08-20   \n",
       "...                                                 ...         ...   \n",
       "1295  America 'Was Never that Great': NY Gov. Andrew...  2018-08-16   \n",
       "1296  The FBI is reeling from shock of Comey’s unexp...  2017-05-10   \n",
       "1297  Human-Trafficking Bill Fight Could Hold Up Lor...  2015-03-15   \n",
       "1298  Fake News: Media Pushes Bogus Survey As Proof ...  2016-11-30   \n",
       "1299  US cities gird for more violence as Trump decr...  2020-06-02   \n",
       "\n",
       "                        authors  \\\n",
       "0                   Ben Shapiro   \n",
       "1                John Parkinson   \n",
       "2                 Ayesha Rascoe   \n",
       "3                           NaN   \n",
       "4                     Adam Shaw   \n",
       "...                         ...   \n",
       "1295                        NaN   \n",
       "1296              Matthew Rozsa   \n",
       "1297                        NaN   \n",
       "1298                        NaN   \n",
       "1299  Zeke Miller, Tim Sullivan   \n",
       "\n",
       "                                                content  \\\n",
       "0     For the last several days , the entire Western...   \n",
       "1     Tomorrow morning , House Budget Chairman Paul ...   \n",
       "2     WASHINGTON ( ███ ) - President Donald Trump on...   \n",
       "3     President Donald Trump arrives in Hanoi , Viet...   \n",
       "4     President Trump ’ s fiery response to the even...   \n",
       "...                                                 ...   \n",
       "1295  New York Gov . Andrew Cuomo surprised an audie...   \n",
       "1296  Agents who work for the FBI are reported to be...   \n",
       "1297  The U.S. Senate majority leader said Sunday he...   \n",
       "1298  Multiple U.S. media outlets are citing an onli...   \n",
       "1299  With the White House in the background , a lin...   \n",
       "\n",
       "                                       content_original           source_url  \\\n",
       "0     For the last several days, the entire Western ...    www.breitbart.com   \n",
       "1     Jacquelyn Martin/AP Photo\\n\\nTomorrow morning,...   www.abcnews.go.com   \n",
       "2     WASHINGTON (Reuters) - President Donald Trump ...      www.reuters.com   \n",
       "3     President Donald Trump arrives in Hanoi, Vietn...         www1.cbn.com   \n",
       "4     President Trump’s fiery response to the events...    www.breitbart.com   \n",
       "...                                                 ...                  ...   \n",
       "1295  New York Gov. Andrew Cuomo surprised an audien...         www1.cbn.com   \n",
       "1296  Agents who work for the FBI are reported to be...        www.salon.com   \n",
       "1297  The U.S. Senate majority leader said Sunday he...      www.newsmax.com   \n",
       "1298  Multiple U.S. media outlets are citing an onli...  www.dailycaller.com   \n",
       "1299  With the White House in the background, a line...       www.apnews.com   \n",
       "\n",
       "     bias_text                ID  pred_labels  hybrid_label  hybrid_prob  \\\n",
       "0        right  uI2K5BSCO0LaWuKb            4             2     0.932278   \n",
       "1         left  zeSfcxLilzR0R1Dt            4             0     0.554609   \n",
       "2       center  ru8kAxfdPzZc11le            4             0     0.999660   \n",
       "3        right  TTt5FFmsW6ng3fsC            4             0     0.947262   \n",
       "4        right  gYKaZGjLCYdEghTZ            4             2     0.998557   \n",
       "...        ...               ...          ...           ...          ...   \n",
       "1295     right  tx0ljfh22jS6RtHp            4             2     0.993662   \n",
       "1296      left  HFWrdvZbzVjgJU81            4             1     0.861313   \n",
       "1297     right  EpeNKrMWiScat2Hm            4             0     0.978195   \n",
       "1298     right  o2fN4uERGL363uh0            4             1     0.724327   \n",
       "1299    center  UYCZ1NDiINeCpV41            4             0     0.996020   \n",
       "\n",
       "                                        hybrid_nn_probs  \\\n",
       "0     [0.005442489869892597, 0.06227951869368553, 0....   \n",
       "1     [0.5546085238456726, 0.19034647941589355, 0.25...   \n",
       "2     [0.9996604919433594, 6.564209616044536e-05, 0....   \n",
       "3     [0.9472617506980896, 0.0005362341180443764, 0....   \n",
       "4     [0.000647720939014107, 0.0007950758445076644, ...   \n",
       "...                                                 ...   \n",
       "1295  [0.0030844933353364468, 0.003253103932365775, ...   \n",
       "1296  [0.1233455091714859, 0.8613126277923584, 0.015...   \n",
       "1297  [0.978195309638977, 0.005366988480091095, 0.01...   \n",
       "1298  [0.02904820442199707, 0.7243269681930542, 0.24...   \n",
       "1299  [0.9960203766822815, 0.0012803003191947937, 0....   \n",
       "\n",
       "                                     hybrid_tfidf_probs  real_labels  \n",
       "0     [0.2019185656148889, 0.33856253449073165, 0.45...            2  \n",
       "1     [0.22396259845512798, 0.3365162631639265, 0.43...            1  \n",
       "2     [0.33335247222947717, 0.25433261654571443, 0.4...            0  \n",
       "3     [0.2630276689756886, 0.29193362807534673, 0.44...            2  \n",
       "4     [0.30407980649538496, 0.27718891923173106, 0.4...            2  \n",
       "...                                                 ...          ...  \n",
       "1295  [0.28100792862504187, 0.27257147243018337, 0.4...            2  \n",
       "1296  [0.2311350896316069, 0.287240128317674, 0.4816...            1  \n",
       "1297  [0.17547747276695919, 0.44393763879719744, 0.3...            2  \n",
       "1298  [0.23934055769317847, 0.30732813499120837, 0.4...            2  \n",
       "1299  [0.3842848053299887, 0.3007503504942107, 0.314...            0  \n",
       "\n",
       "[1300 rows x 18 columns]"
      ]
     },
     "execution_count": 23,
     "metadata": {},
     "output_type": "execute_result"
    }
   ],
   "source": [
    "from sklearn.preprocessing import LabelEncoder\n",
    "le = LabelEncoder()\n",
    "# tokenizer_transformer = XLNetTokenizer.from_pretrained('xlnet-large-cased')\n",
    "test_labels = np.asarray(le.fit_transform(sourcetestdata_hybridoutput['bias_text']))\n",
    "\n",
    "sourcetestdata_hybridoutput[\"real_labels\"] =test_labels\n",
    "sourcetestdata_hybridoutput"
   ]
  },
  {
   "cell_type": "code",
   "execution_count": 9,
   "metadata": {},
   "outputs": [
    {
     "data": {
      "text/plain": [
       "<AxesSubplot:>"
      ]
     },
     "execution_count": 9,
     "metadata": {},
     "output_type": "execute_result"
    },
    {
     "data": {
      "image/png": "[encoded data removed]",
      "text/plain": [
       "<Figure size 432x288 with 1 Axes>"
      ]
     },
     "metadata": {
      "needs_background": "light"
     },
     "output_type": "display_data"
    }
   ],
   "source": [
    "sourcetestdata_hybridoutput[\"hybrid_label\"].value_counts().plot.bar()"
   ]
  },
  {
   "cell_type": "code",
   "execution_count": 24,
   "metadata": {},
   "outputs": [
    {
     "data": {
      "text/plain": [
       "<AxesSubplot:>"
      ]
     },
     "execution_count": 24,
     "metadata": {},
     "output_type": "execute_result"
    },
    {
     "data": {
      "image/png": "[encoded data removed]",
      "text/plain": [
       "<Figure size 432x288 with 1 Axes>"
      ]
     },
     "metadata": {
      "needs_background": "light"
     },
     "output_type": "display_data"
    }
   ],
   "source": [
    "sourcetestdata_hybridoutput[\"real_labels\"].value_counts().plot.bar()"
   ]
  },
  {
   "cell_type": "code",
   "execution_count": 25,
   "metadata": {},
   "outputs": [
    {
     "data": {
      "text/plain": [
       "<AxesSubplot:>"
      ]
     },
     "execution_count": 25,
     "metadata": {},
     "output_type": "execute_result"
    },
    {
     "data": {
      "image/png": "[encoded data removed]",
      "text/plain": [
       "<Figure size 432x288 with 1 Axes>"
      ]
     },
     "metadata": {
      "needs_background": "light"
     },
     "output_type": "display_data"
    }
   ],
   "source": [
    "sourcetestdata_hybridoutput[sourcetestdata_hybridoutput[\"real_labels\"]==0][\"hybrid_label\"].value_counts().plot.bar()"
   ]
  },
  {
   "cell_type": "code",
   "execution_count": 26,
   "metadata": {},
   "outputs": [
    {
     "data": {
      "text/plain": [
       "<AxesSubplot:>"
      ]
     },
     "execution_count": 26,
     "metadata": {},
     "output_type": "execute_result"
    },
    {
     "data": {
      "image/png": "[encoded data removed]",
      "text/plain": [
       "<Figure size 432x288 with 1 Axes>"
      ]
     },
     "metadata": {
      "needs_background": "light"
     },
     "output_type": "display_data"
    }
   ],
   "source": [
    "sourcetestdata_hybridoutput[sourcetestdata_hybridoutput[\"real_labels\"]==1][\"hybrid_label\"].value_counts().plot.bar()"
   ]
  },
  {
   "cell_type": "code",
   "execution_count": 27,
   "metadata": {},
   "outputs": [
    {
     "data": {
      "text/plain": [
       "<AxesSubplot:>"
      ]
     },
     "execution_count": 27,
     "metadata": {},
     "output_type": "execute_result"
    },
    {
     "data": {
      "image/png": "[encoded data removed]",
      "text/plain": [
       "<Figure size 432x288 with 1 Axes>"
      ]
     },
     "metadata": {
      "needs_background": "light"
     },
     "output_type": "display_data"
    }
   ],
   "source": [
    "sourcetestdata_hybridoutput[sourcetestdata_hybridoutput[\"real_labels\"]==2][\"hybrid_label\"].value_counts().plot.bar()"
   ]
  },
  {
   "cell_type": "code",
   "execution_count": 28,
   "metadata": {},
   "outputs": [
    {
     "data": {
      "text/plain": [
       "0.8453846153846154"
      ]
     },
     "execution_count": 28,
     "metadata": {},
     "output_type": "execute_result"
    }
   ],
   "source": [
    "from sklearn.metrics import accuracy_score\n",
    "\n",
    "accuracy_score(sourcetestdata_hybridoutput[\"real_labels\"], sourcetestdata_hybridoutput[\"hybrid_label\"])"
   ]
  },
  {
   "cell_type": "code",
   "execution_count": 35,
   "metadata": {},
   "outputs": [],
   "source": [
    "import ast \n"
   ]
  },
  {
   "cell_type": "code",
   "execution_count": 40,
   "metadata": {},
   "outputs": [
    {
     "data": {
      "text/plain": [
       "(array([  3.,   3.,   4.,  12.,  12.,  21.,  21.,  18.,  24.,  20.,  22.,\n",
       "         29.,  31.,  25.,  33.,  33.,  30.,  66.,  91., 802.]),\n",
       " array([0.34588388, 0.37858418, 0.41128449, 0.44398479, 0.47668509,\n",
       "        0.5093854 , 0.5420857 , 0.57478601, 0.60748631, 0.64018662,\n",
       "        0.67288692, 0.70558723, 0.73828753, 0.77098784, 0.80368814,\n",
       "        0.83638845, 0.86908875, 0.90178906, 0.93448936, 0.96718967,\n",
       "        0.99988997]),\n",
       " <BarContainer object of 20 artists>)"
      ]
     },
     "execution_count": 40,
     "metadata": {},
     "output_type": "execute_result"
    },
    {
     "data": {
      "image/png": "[encoded data removed]",
      "text/plain": [
       "<Figure size 432x288 with 1 Axes>"
      ]
     },
     "metadata": {
      "needs_background": "light"
     },
     "output_type": "display_data"
    }
   ],
   "source": [
    "nn_probs = list(sourcetestdata_hybridoutput[\"hybrid_nn_probs\"])\n",
    "nn_probs = [ast.literal_eval(s) for s in nn_probs]\n",
    "nn_max_probs = np.amax(np.array(nn_probs), axis = 1)\n",
    "plt.hist(nn_max_probs, bins = 20)"
   ]
  },
  {
   "cell_type": "code",
   "execution_count": 41,
   "metadata": {},
   "outputs": [
    {
     "data": {
      "text/plain": [
       "(array([ 18.,  26.,  54.,  70., 128., 166., 158., 154., 163., 118.,  82.,\n",
       "         52.,  49.,  27.,  13.,  10.,   3.,   6.,   1.,   2.]),\n",
       " array([0.33975089, 0.35071878, 0.36168667, 0.37265456, 0.38362245,\n",
       "        0.39459033, 0.40555822, 0.41652611, 0.427494  , 0.43846189,\n",
       "        0.44942978, 0.46039766, 0.47136555, 0.48233344, 0.49330133,\n",
       "        0.50426922, 0.51523711, 0.52620499, 0.53717288, 0.54814077,\n",
       "        0.55910866]),\n",
       " <BarContainer object of 20 artists>)"
      ]
     },
     "execution_count": 41,
     "metadata": {},
     "output_type": "execute_result"
    },
    {
     "data": {
      "image/png": "[encoded data removed]",
      "text/plain": [
       "<Figure size 432x288 with 1 Axes>"
      ]
     },
     "metadata": {
      "needs_background": "light"
     },
     "output_type": "display_data"
    }
   ],
   "source": [
    "tfidf_probs = list(sourcetestdata_hybridoutput[\"hybrid_tfidf_probs\"])\n",
    "tfidf_probs = [ast.literal_eval(s) for s in tfidf_probs]\n",
    "tfidf_max_probs = np.amax(np.array(tfidf_probs), axis = 1)\n",
    "plt.hist(tfidf_max_probs, bins = 20)"
   ]
  },
  {
   "cell_type": "code",
   "execution_count": null,
   "metadata": {},
   "outputs": [],
   "source": []
  },
  {
   "cell_type": "code",
   "execution_count": null,
   "metadata": {},
   "outputs": [],
   "source": []
  },
  {
   "cell_type": "code",
   "execution_count": null,
   "metadata": {},
   "outputs": [],
   "source": []
  },
  {
   "cell_type": "code",
   "execution_count": 42,
   "metadata": {},
   "outputs": [
    {
     "data": {
      "text/html": [
       "<div>\n",
       "<style scoped>\n",
       "    .dataframe tbody tr th:only-of-type {\n",
       "        vertical-align: middle;\n",
       "    }\n",
       "\n",
       "    .dataframe tbody tr th {\n",
       "        vertical-align: top;\n",
       "    }\n",
       "\n",
       "    .dataframe thead th {\n",
       "        text-align: right;\n",
       "    }\n",
       "</style>\n",
       "<table border=\"1\" class=\"dataframe\">\n",
       "  <thead>\n",
       "    <tr style=\"text-align: right;\">\n",
       "      <th></th>\n",
       "      <th>index</th>\n",
       "      <th>url</th>\n",
       "      <th>q3</th>\n",
       "      <th>perceived</th>\n",
       "      <th>primary.topic</th>\n",
       "      <th>secondary.topic</th>\n",
       "      <th>democrat.vote</th>\n",
       "      <th>republican.vote</th>\n",
       "      <th>article</th>\n",
       "      <th>length</th>\n",
       "      <th>...</th>\n",
       "      <th>isbiased</th>\n",
       "      <th>biascategories</th>\n",
       "      <th>bias_magnitude</th>\n",
       "      <th>bias_text</th>\n",
       "      <th>content</th>\n",
       "      <th>pred_labels</th>\n",
       "      <th>hybrid_label</th>\n",
       "      <th>hybrid_prob</th>\n",
       "      <th>hybrid_nn_probs</th>\n",
       "      <th>hybrid_tfidf_probs</th>\n",
       "    </tr>\n",
       "  </thead>\n",
       "  <tbody>\n",
       "    <tr>\n",
       "      <th>0</th>\n",
       "      <td>2</td>\n",
       "      <td>http://www.washingtonpost.com/opinions/dont-le...</td>\n",
       "      <td>Opinion</td>\n",
       "      <td>1</td>\n",
       "      <td>Civil Rights</td>\n",
       "      <td>Civil Rights</td>\n",
       "      <td>Neutral</td>\n",
       "      <td>Neutral</td>\n",
       "      <td>david cole is a professor of constitutional la...</td>\n",
       "      <td>600</td>\n",
       "      <td>...</td>\n",
       "      <td>0</td>\n",
       "      <td>0</td>\n",
       "      <td>0.0</td>\n",
       "      <td>center</td>\n",
       "      <td>david cole is a professor of constitutional la...</td>\n",
       "      <td>1</td>\n",
       "      <td>1</td>\n",
       "      <td>0.998456</td>\n",
       "      <td>[0.000621203682385385, 0.9984557628631592, 0.0...</td>\n",
       "      <td>[0.23367315624150653, 0.3188542931213096, 0.44...</td>\n",
       "    </tr>\n",
       "    <tr>\n",
       "      <th>1</th>\n",
       "      <td>4</td>\n",
       "      <td>http://www.breitbart.com/Big-Government/2013/1...</td>\n",
       "      <td>Opinion</td>\n",
       "      <td>1</td>\n",
       "      <td>Civil Rights</td>\n",
       "      <td>Civil Rights</td>\n",
       "      <td>Neutral</td>\n",
       "      <td>Neutral</td>\n",
       "      <td>u.s. immigration citizenship and immigration s...</td>\n",
       "      <td>600</td>\n",
       "      <td>...</td>\n",
       "      <td>0</td>\n",
       "      <td>0</td>\n",
       "      <td>0.0</td>\n",
       "      <td>center</td>\n",
       "      <td>u.s. immigration citizenship and immigration s...</td>\n",
       "      <td>2</td>\n",
       "      <td>2</td>\n",
       "      <td>0.996456</td>\n",
       "      <td>[0.00017927114095073193, 0.003364395350217819,...</td>\n",
       "      <td>[0.21772001107917457, 0.30858230910860185, 0.4...</td>\n",
       "    </tr>\n",
       "    <tr>\n",
       "      <th>2</th>\n",
       "      <td>8</td>\n",
       "      <td>http://www.dailykos.com/story/2013/12/02/12595...</td>\n",
       "      <td>News</td>\n",
       "      <td>1</td>\n",
       "      <td>Civil Rights</td>\n",
       "      <td>Civil Rights</td>\n",
       "      <td>SomewhatPositive</td>\n",
       "      <td>SomewhatNegative</td>\n",
       "      <td>the following irresponsible police...</td>\n",
       "      <td>498</td>\n",
       "      <td>...</td>\n",
       "      <td>1</td>\n",
       "      <td>1</td>\n",
       "      <td>1.0</td>\n",
       "      <td>left</td>\n",
       "      <td>the following irresponsible police...</td>\n",
       "      <td>2</td>\n",
       "      <td>2</td>\n",
       "      <td>0.981165</td>\n",
       "      <td>[0.00046024733455851674, 0.018374672159552574,...</td>\n",
       "      <td>[0.21621107872193918, 0.2931501517807278, 0.49...</td>\n",
       "    </tr>\n",
       "    <tr>\n",
       "      <th>3</th>\n",
       "      <td>9</td>\n",
       "      <td>http://www.nytimes.com/2013/05/24/us/politics/...</td>\n",
       "      <td>News</td>\n",
       "      <td>1</td>\n",
       "      <td>Civil Rights</td>\n",
       "      <td>Civil Rights</td>\n",
       "      <td>Neutral</td>\n",
       "      <td>Neutral</td>\n",
       "      <td>an alternative possibility is that a bipartisa...</td>\n",
       "      <td>372</td>\n",
       "      <td>...</td>\n",
       "      <td>0</td>\n",
       "      <td>0</td>\n",
       "      <td>0.0</td>\n",
       "      <td>center</td>\n",
       "      <td>an alternative possibility is that a bipartisa...</td>\n",
       "      <td>1</td>\n",
       "      <td>1</td>\n",
       "      <td>0.998758</td>\n",
       "      <td>[0.0005090124905109406, 0.9987584352493286, 0....</td>\n",
       "      <td>[0.18708066801123957, 0.3254286696422012, 0.48...</td>\n",
       "    </tr>\n",
       "    <tr>\n",
       "      <th>4</th>\n",
       "      <td>11</td>\n",
       "      <td>http://www.latimes.com/news/local/la-me-cap-gu...</td>\n",
       "      <td>other</td>\n",
       "      <td>0</td>\n",
       "      <td>Civil Rights</td>\n",
       "      <td>Civil Rights</td>\n",
       "      <td>Neutral</td>\n",
       "      <td>SomewhatPositive</td>\n",
       "      <td>sacramento — “living in parallel universes,” i...</td>\n",
       "      <td>600</td>\n",
       "      <td>...</td>\n",
       "      <td>1</td>\n",
       "      <td>-1</td>\n",
       "      <td>0.5</td>\n",
       "      <td>right</td>\n",
       "      <td>sacramento — “living in parallel universes,” i...</td>\n",
       "      <td>1</td>\n",
       "      <td>1</td>\n",
       "      <td>0.536058</td>\n",
       "      <td>[0.002071336144581437, 0.5360579490661621, 0.4...</td>\n",
       "      <td>[0.27190308227016163, 0.3106431771033703, 0.41...</td>\n",
       "    </tr>\n",
       "  </tbody>\n",
       "</table>\n",
       "<p>5 rows × 23 columns</p>\n",
       "</div>"
      ],
      "text/plain": [
       "   index                                                url       q3  \\\n",
       "0      2  http://www.washingtonpost.com/opinions/dont-le...  Opinion   \n",
       "1      4  http://www.breitbart.com/Big-Government/2013/1...  Opinion   \n",
       "2      8  http://www.dailykos.com/story/2013/12/02/12595...     News   \n",
       "3      9  http://www.nytimes.com/2013/05/24/us/politics/...     News   \n",
       "4     11  http://www.latimes.com/news/local/la-me-cap-gu...    other   \n",
       "\n",
       "   perceived primary.topic secondary.topic     democrat.vote  \\\n",
       "0          1  Civil Rights    Civil Rights           Neutral   \n",
       "1          1  Civil Rights    Civil Rights           Neutral   \n",
       "2          1  Civil Rights    Civil Rights  SomewhatPositive   \n",
       "3          1  Civil Rights    Civil Rights           Neutral   \n",
       "4          0  Civil Rights    Civil Rights           Neutral   \n",
       "\n",
       "    republican.vote                                            article  \\\n",
       "0           Neutral  david cole is a professor of constitutional la...   \n",
       "1           Neutral  u.s. immigration citizenship and immigration s...   \n",
       "2  SomewhatNegative              the following irresponsible police...   \n",
       "3           Neutral  an alternative possibility is that a bipartisa...   \n",
       "4  SomewhatPositive  sacramento — “living in parallel universes,” i...   \n",
       "\n",
       "   length  ...  isbiased  biascategories bias_magnitude  bias_text  \\\n",
       "0     600  ...         0               0            0.0     center   \n",
       "1     600  ...         0               0            0.0     center   \n",
       "2     498  ...         1               1            1.0       left   \n",
       "3     372  ...         0               0            0.0     center   \n",
       "4     600  ...         1              -1            0.5      right   \n",
       "\n",
       "                                             content  pred_labels  \\\n",
       "0  david cole is a professor of constitutional la...            1   \n",
       "1  u.s. immigration citizenship and immigration s...            2   \n",
       "2              the following irresponsible police...            2   \n",
       "3  an alternative possibility is that a bipartisa...            1   \n",
       "4  sacramento — “living in parallel universes,” i...            1   \n",
       "\n",
       "  hybrid_label hybrid_prob                                    hybrid_nn_probs  \\\n",
       "0            1    0.998456  [0.000621203682385385, 0.9984557628631592, 0.0...   \n",
       "1            2    0.996456  [0.00017927114095073193, 0.003364395350217819,...   \n",
       "2            2    0.981165  [0.00046024733455851674, 0.018374672159552574,...   \n",
       "3            1    0.998758  [0.0005090124905109406, 0.9987584352493286, 0....   \n",
       "4            1    0.536058  [0.002071336144581437, 0.5360579490661621, 0.4...   \n",
       "\n",
       "                                  hybrid_tfidf_probs  \n",
       "0  [0.23367315624150653, 0.3188542931213096, 0.44...  \n",
       "1  [0.21772001107917457, 0.30858230910860185, 0.4...  \n",
       "2  [0.21621107872193918, 0.2931501517807278, 0.49...  \n",
       "3  [0.18708066801123957, 0.3254286696422012, 0.48...  \n",
       "4  [0.27190308227016163, 0.3106431771033703, 0.41...  \n",
       "\n",
       "[5 rows x 23 columns]"
      ]
     },
     "execution_count": 42,
     "metadata": {},
     "output_type": "execute_result"
    }
   ],
   "source": [
    "articletestdata_hybridoutput = pd.read_csv(\"articletestdata_hybridoutput.csv\")\n",
    "articletestdata_hybridoutput.head()"
   ]
  },
  {
   "cell_type": "code",
   "execution_count": 43,
   "metadata": {},
   "outputs": [
    {
     "data": {
      "text/html": [
       "<div>\n",
       "<style scoped>\n",
       "    .dataframe tbody tr th:only-of-type {\n",
       "        vertical-align: middle;\n",
       "    }\n",
       "\n",
       "    .dataframe tbody tr th {\n",
       "        vertical-align: top;\n",
       "    }\n",
       "\n",
       "    .dataframe thead th {\n",
       "        text-align: right;\n",
       "    }\n",
       "</style>\n",
       "<table border=\"1\" class=\"dataframe\">\n",
       "  <thead>\n",
       "    <tr style=\"text-align: right;\">\n",
       "      <th></th>\n",
       "      <th>index</th>\n",
       "      <th>url</th>\n",
       "      <th>q3</th>\n",
       "      <th>perceived</th>\n",
       "      <th>primary.topic</th>\n",
       "      <th>secondary.topic</th>\n",
       "      <th>democrat.vote</th>\n",
       "      <th>republican.vote</th>\n",
       "      <th>article</th>\n",
       "      <th>length</th>\n",
       "      <th>...</th>\n",
       "      <th>biascategories</th>\n",
       "      <th>bias_magnitude</th>\n",
       "      <th>bias_text</th>\n",
       "      <th>content</th>\n",
       "      <th>pred_labels</th>\n",
       "      <th>hybrid_label</th>\n",
       "      <th>hybrid_prob</th>\n",
       "      <th>hybrid_nn_probs</th>\n",
       "      <th>hybrid_tfidf_probs</th>\n",
       "      <th>real_labels</th>\n",
       "    </tr>\n",
       "  </thead>\n",
       "  <tbody>\n",
       "    <tr>\n",
       "      <th>0</th>\n",
       "      <td>2</td>\n",
       "      <td>http://www.washingtonpost.com/opinions/dont-le...</td>\n",
       "      <td>Opinion</td>\n",
       "      <td>1</td>\n",
       "      <td>Civil Rights</td>\n",
       "      <td>Civil Rights</td>\n",
       "      <td>Neutral</td>\n",
       "      <td>Neutral</td>\n",
       "      <td>david cole is a professor of constitutional la...</td>\n",
       "      <td>600</td>\n",
       "      <td>...</td>\n",
       "      <td>0</td>\n",
       "      <td>0.0</td>\n",
       "      <td>center</td>\n",
       "      <td>david cole is a professor of constitutional la...</td>\n",
       "      <td>1</td>\n",
       "      <td>1</td>\n",
       "      <td>0.998456</td>\n",
       "      <td>[0.000621203682385385, 0.9984557628631592, 0.0...</td>\n",
       "      <td>[0.23367315624150653, 0.3188542931213096, 0.44...</td>\n",
       "      <td>0</td>\n",
       "    </tr>\n",
       "    <tr>\n",
       "      <th>1</th>\n",
       "      <td>4</td>\n",
       "      <td>http://www.breitbart.com/Big-Government/2013/1...</td>\n",
       "      <td>Opinion</td>\n",
       "      <td>1</td>\n",
       "      <td>Civil Rights</td>\n",
       "      <td>Civil Rights</td>\n",
       "      <td>Neutral</td>\n",
       "      <td>Neutral</td>\n",
       "      <td>u.s. immigration citizenship and immigration s...</td>\n",
       "      <td>600</td>\n",
       "      <td>...</td>\n",
       "      <td>0</td>\n",
       "      <td>0.0</td>\n",
       "      <td>center</td>\n",
       "      <td>u.s. immigration citizenship and immigration s...</td>\n",
       "      <td>2</td>\n",
       "      <td>2</td>\n",
       "      <td>0.996456</td>\n",
       "      <td>[0.00017927114095073193, 0.003364395350217819,...</td>\n",
       "      <td>[0.21772001107917457, 0.30858230910860185, 0.4...</td>\n",
       "      <td>0</td>\n",
       "    </tr>\n",
       "    <tr>\n",
       "      <th>2</th>\n",
       "      <td>8</td>\n",
       "      <td>http://www.dailykos.com/story/2013/12/02/12595...</td>\n",
       "      <td>News</td>\n",
       "      <td>1</td>\n",
       "      <td>Civil Rights</td>\n",
       "      <td>Civil Rights</td>\n",
       "      <td>SomewhatPositive</td>\n",
       "      <td>SomewhatNegative</td>\n",
       "      <td>the following irresponsible police...</td>\n",
       "      <td>498</td>\n",
       "      <td>...</td>\n",
       "      <td>1</td>\n",
       "      <td>1.0</td>\n",
       "      <td>left</td>\n",
       "      <td>the following irresponsible police...</td>\n",
       "      <td>2</td>\n",
       "      <td>2</td>\n",
       "      <td>0.981165</td>\n",
       "      <td>[0.00046024733455851674, 0.018374672159552574,...</td>\n",
       "      <td>[0.21621107872193918, 0.2931501517807278, 0.49...</td>\n",
       "      <td>1</td>\n",
       "    </tr>\n",
       "    <tr>\n",
       "      <th>3</th>\n",
       "      <td>9</td>\n",
       "      <td>http://www.nytimes.com/2013/05/24/us/politics/...</td>\n",
       "      <td>News</td>\n",
       "      <td>1</td>\n",
       "      <td>Civil Rights</td>\n",
       "      <td>Civil Rights</td>\n",
       "      <td>Neutral</td>\n",
       "      <td>Neutral</td>\n",
       "      <td>an alternative possibility is that a bipartisa...</td>\n",
       "      <td>372</td>\n",
       "      <td>...</td>\n",
       "      <td>0</td>\n",
       "      <td>0.0</td>\n",
       "      <td>center</td>\n",
       "      <td>an alternative possibility is that a bipartisa...</td>\n",
       "      <td>1</td>\n",
       "      <td>1</td>\n",
       "      <td>0.998758</td>\n",
       "      <td>[0.0005090124905109406, 0.9987584352493286, 0....</td>\n",
       "      <td>[0.18708066801123957, 0.3254286696422012, 0.48...</td>\n",
       "      <td>0</td>\n",
       "    </tr>\n",
       "    <tr>\n",
       "      <th>4</th>\n",
       "      <td>11</td>\n",
       "      <td>http://www.latimes.com/news/local/la-me-cap-gu...</td>\n",
       "      <td>other</td>\n",
       "      <td>0</td>\n",
       "      <td>Civil Rights</td>\n",
       "      <td>Civil Rights</td>\n",
       "      <td>Neutral</td>\n",
       "      <td>SomewhatPositive</td>\n",
       "      <td>sacramento — “living in parallel universes,” i...</td>\n",
       "      <td>600</td>\n",
       "      <td>...</td>\n",
       "      <td>-1</td>\n",
       "      <td>0.5</td>\n",
       "      <td>right</td>\n",
       "      <td>sacramento — “living in parallel universes,” i...</td>\n",
       "      <td>1</td>\n",
       "      <td>1</td>\n",
       "      <td>0.536058</td>\n",
       "      <td>[0.002071336144581437, 0.5360579490661621, 0.4...</td>\n",
       "      <td>[0.27190308227016163, 0.3106431771033703, 0.41...</td>\n",
       "      <td>2</td>\n",
       "    </tr>\n",
       "    <tr>\n",
       "      <th>...</th>\n",
       "      <td>...</td>\n",
       "      <td>...</td>\n",
       "      <td>...</td>\n",
       "      <td>...</td>\n",
       "      <td>...</td>\n",
       "      <td>...</td>\n",
       "      <td>...</td>\n",
       "      <td>...</td>\n",
       "      <td>...</td>\n",
       "      <td>...</td>\n",
       "      <td>...</td>\n",
       "      <td>...</td>\n",
       "      <td>...</td>\n",
       "      <td>...</td>\n",
       "      <td>...</td>\n",
       "      <td>...</td>\n",
       "      <td>...</td>\n",
       "      <td>...</td>\n",
       "      <td>...</td>\n",
       "      <td>...</td>\n",
       "      <td>...</td>\n",
       "    </tr>\n",
       "    <tr>\n",
       "      <th>8345</th>\n",
       "      <td>12345</td>\n",
       "      <td>http://www.washingtonpost.com/opinions/dana-mi...</td>\n",
       "      <td>News</td>\n",
       "      <td>1</td>\n",
       "      <td>Republican Scandals</td>\n",
       "      <td>Republican Scandals</td>\n",
       "      <td>SomewhatPositive</td>\n",
       "      <td>SomewhatNegative</td>\n",
       "      <td>president obama won reelection in part by beat...</td>\n",
       "      <td>600</td>\n",
       "      <td>...</td>\n",
       "      <td>1</td>\n",
       "      <td>1.0</td>\n",
       "      <td>left</td>\n",
       "      <td>president obama won reelection in part by beat...</td>\n",
       "      <td>1</td>\n",
       "      <td>1</td>\n",
       "      <td>0.823416</td>\n",
       "      <td>[0.002092322800308466, 0.8234157562255859, 0.1...</td>\n",
       "      <td>[0.21459188864785964, 0.31366076359960604, 0.4...</td>\n",
       "      <td>1</td>\n",
       "    </tr>\n",
       "    <tr>\n",
       "      <th>8346</th>\n",
       "      <td>12346</td>\n",
       "      <td>http://news.yahoo.com/republicans-hatred-obama...</td>\n",
       "      <td>Opinion</td>\n",
       "      <td>1</td>\n",
       "      <td>Republican Scandals</td>\n",
       "      <td>Republican Scandals</td>\n",
       "      <td>SomewhatPositive</td>\n",
       "      <td>SomewhatNegative</td>\n",
       "      <td>red-faced republicans, circling and preparing ...</td>\n",
       "      <td>600</td>\n",
       "      <td>...</td>\n",
       "      <td>1</td>\n",
       "      <td>1.0</td>\n",
       "      <td>left</td>\n",
       "      <td>red-faced republicans, circling and preparing ...</td>\n",
       "      <td>2</td>\n",
       "      <td>2</td>\n",
       "      <td>0.654309</td>\n",
       "      <td>[0.0012914108810946345, 0.34439972043037415, 0...</td>\n",
       "      <td>[0.269000070425039, 0.34131314969312876, 0.389...</td>\n",
       "      <td>1</td>\n",
       "    </tr>\n",
       "    <tr>\n",
       "      <th>8347</th>\n",
       "      <td>12347</td>\n",
       "      <td>http://www.washingtonpost.com/opinions/dana-mi...</td>\n",
       "      <td>News</td>\n",
       "      <td>1</td>\n",
       "      <td>Republican Scandals</td>\n",
       "      <td>Republican Scandals</td>\n",
       "      <td>Neutral</td>\n",
       "      <td>Neutral</td>\n",
       "      <td>rep. steve stockman’s moment as a viable senat...</td>\n",
       "      <td>600</td>\n",
       "      <td>...</td>\n",
       "      <td>0</td>\n",
       "      <td>0.0</td>\n",
       "      <td>center</td>\n",
       "      <td>rep. steve stockman’s moment as a viable senat...</td>\n",
       "      <td>1</td>\n",
       "      <td>1</td>\n",
       "      <td>0.998007</td>\n",
       "      <td>[0.0005887270090170205, 0.9980067610740662, 0....</td>\n",
       "      <td>[0.21888120446599127, 0.3412431901403461, 0.43...</td>\n",
       "      <td>0</td>\n",
       "    </tr>\n",
       "    <tr>\n",
       "      <th>8348</th>\n",
       "      <td>12348</td>\n",
       "      <td>http://www.washingtonpost.com/opinions/ej-dion...</td>\n",
       "      <td>News</td>\n",
       "      <td>1</td>\n",
       "      <td>Republican Scandals</td>\n",
       "      <td>Republican Scandals</td>\n",
       "      <td>SomewhatPositive</td>\n",
       "      <td>SomewhatNegative</td>\n",
       "      <td>we interrupt this highly partisan and ideologi...</td>\n",
       "      <td>600</td>\n",
       "      <td>...</td>\n",
       "      <td>1</td>\n",
       "      <td>1.0</td>\n",
       "      <td>left</td>\n",
       "      <td>we interrupt this highly partisan and ideologi...</td>\n",
       "      <td>1</td>\n",
       "      <td>1</td>\n",
       "      <td>0.897924</td>\n",
       "      <td>[0.00846980232745409, 0.8979237079620361, 0.09...</td>\n",
       "      <td>[0.20641056282045653, 0.34472664869425257, 0.4...</td>\n",
       "      <td>1</td>\n",
       "    </tr>\n",
       "    <tr>\n",
       "      <th>8349</th>\n",
       "      <td>12349</td>\n",
       "      <td>http://www.huffingtonpost.com/2013/08/11/this-...</td>\n",
       "      <td>Opinion</td>\n",
       "      <td>1</td>\n",
       "      <td>Republican Scandals</td>\n",
       "      <td>Republican Scandals</td>\n",
       "      <td>SomewhatPositive</td>\n",
       "      <td>SomewhatNegative</td>\n",
       "      <td>file - in this sept. 27, 2012 file photo, dona...</td>\n",
       "      <td>358</td>\n",
       "      <td>...</td>\n",
       "      <td>1</td>\n",
       "      <td>1.0</td>\n",
       "      <td>left</td>\n",
       "      <td>file - in this sept. 27, 2012 file photo, dona...</td>\n",
       "      <td>1</td>\n",
       "      <td>1</td>\n",
       "      <td>0.971776</td>\n",
       "      <td>[0.008692341856658459, 0.9717759490013123, 0.0...</td>\n",
       "      <td>[0.3212917646215967, 0.3253892887523385, 0.353...</td>\n",
       "      <td>1</td>\n",
       "    </tr>\n",
       "  </tbody>\n",
       "</table>\n",
       "<p>8350 rows × 24 columns</p>\n",
       "</div>"
      ],
      "text/plain": [
       "      index                                                url       q3  \\\n",
       "0         2  http://www.washingtonpost.com/opinions/dont-le...  Opinion   \n",
       "1         4  http://www.breitbart.com/Big-Government/2013/1...  Opinion   \n",
       "2         8  http://www.dailykos.com/story/2013/12/02/12595...     News   \n",
       "3         9  http://www.nytimes.com/2013/05/24/us/politics/...     News   \n",
       "4        11  http://www.latimes.com/news/local/la-me-cap-gu...    other   \n",
       "...     ...                                                ...      ...   \n",
       "8345  12345  http://www.washingtonpost.com/opinions/dana-mi...     News   \n",
       "8346  12346  http://news.yahoo.com/republicans-hatred-obama...  Opinion   \n",
       "8347  12347  http://www.washingtonpost.com/opinions/dana-mi...     News   \n",
       "8348  12348  http://www.washingtonpost.com/opinions/ej-dion...     News   \n",
       "8349  12349  http://www.huffingtonpost.com/2013/08/11/this-...  Opinion   \n",
       "\n",
       "      perceived        primary.topic      secondary.topic     democrat.vote  \\\n",
       "0             1         Civil Rights         Civil Rights           Neutral   \n",
       "1             1         Civil Rights         Civil Rights           Neutral   \n",
       "2             1         Civil Rights         Civil Rights  SomewhatPositive   \n",
       "3             1         Civil Rights         Civil Rights           Neutral   \n",
       "4             0         Civil Rights         Civil Rights           Neutral   \n",
       "...         ...                  ...                  ...               ...   \n",
       "8345          1  Republican Scandals  Republican Scandals  SomewhatPositive   \n",
       "8346          1  Republican Scandals  Republican Scandals  SomewhatPositive   \n",
       "8347          1  Republican Scandals  Republican Scandals           Neutral   \n",
       "8348          1  Republican Scandals  Republican Scandals  SomewhatPositive   \n",
       "8349          1  Republican Scandals  Republican Scandals  SomewhatPositive   \n",
       "\n",
       "       republican.vote                                            article  \\\n",
       "0              Neutral  david cole is a professor of constitutional la...   \n",
       "1              Neutral  u.s. immigration citizenship and immigration s...   \n",
       "2     SomewhatNegative              the following irresponsible police...   \n",
       "3              Neutral  an alternative possibility is that a bipartisa...   \n",
       "4     SomewhatPositive  sacramento — “living in parallel universes,” i...   \n",
       "...                ...                                                ...   \n",
       "8345  SomewhatNegative  president obama won reelection in part by beat...   \n",
       "8346  SomewhatNegative  red-faced republicans, circling and preparing ...   \n",
       "8347           Neutral  rep. steve stockman’s moment as a viable senat...   \n",
       "8348  SomewhatNegative  we interrupt this highly partisan and ideologi...   \n",
       "8349  SomewhatNegative  file - in this sept. 27, 2012 file photo, dona...   \n",
       "\n",
       "      length  ...  biascategories  bias_magnitude bias_text  \\\n",
       "0        600  ...               0             0.0    center   \n",
       "1        600  ...               0             0.0    center   \n",
       "2        498  ...               1             1.0      left   \n",
       "3        372  ...               0             0.0    center   \n",
       "4        600  ...              -1             0.5     right   \n",
       "...      ...  ...             ...             ...       ...   \n",
       "8345     600  ...               1             1.0      left   \n",
       "8346     600  ...               1             1.0      left   \n",
       "8347     600  ...               0             0.0    center   \n",
       "8348     600  ...               1             1.0      left   \n",
       "8349     358  ...               1             1.0      left   \n",
       "\n",
       "                                                content  pred_labels  \\\n",
       "0     david cole is a professor of constitutional la...            1   \n",
       "1     u.s. immigration citizenship and immigration s...            2   \n",
       "2                 the following irresponsible police...            2   \n",
       "3     an alternative possibility is that a bipartisa...            1   \n",
       "4     sacramento — “living in parallel universes,” i...            1   \n",
       "...                                                 ...          ...   \n",
       "8345  president obama won reelection in part by beat...            1   \n",
       "8346  red-faced republicans, circling and preparing ...            2   \n",
       "8347  rep. steve stockman’s moment as a viable senat...            1   \n",
       "8348  we interrupt this highly partisan and ideologi...            1   \n",
       "8349  file - in this sept. 27, 2012 file photo, dona...            1   \n",
       "\n",
       "      hybrid_label hybrid_prob  \\\n",
       "0                1    0.998456   \n",
       "1                2    0.996456   \n",
       "2                2    0.981165   \n",
       "3                1    0.998758   \n",
       "4                1    0.536058   \n",
       "...            ...         ...   \n",
       "8345             1    0.823416   \n",
       "8346             2    0.654309   \n",
       "8347             1    0.998007   \n",
       "8348             1    0.897924   \n",
       "8349             1    0.971776   \n",
       "\n",
       "                                        hybrid_nn_probs  \\\n",
       "0     [0.000621203682385385, 0.9984557628631592, 0.0...   \n",
       "1     [0.00017927114095073193, 0.003364395350217819,...   \n",
       "2     [0.00046024733455851674, 0.018374672159552574,...   \n",
       "3     [0.0005090124905109406, 0.9987584352493286, 0....   \n",
       "4     [0.002071336144581437, 0.5360579490661621, 0.4...   \n",
       "...                                                 ...   \n",
       "8345  [0.002092322800308466, 0.8234157562255859, 0.1...   \n",
       "8346  [0.0012914108810946345, 0.34439972043037415, 0...   \n",
       "8347  [0.0005887270090170205, 0.9980067610740662, 0....   \n",
       "8348  [0.00846980232745409, 0.8979237079620361, 0.09...   \n",
       "8349  [0.008692341856658459, 0.9717759490013123, 0.0...   \n",
       "\n",
       "                                     hybrid_tfidf_probs  real_labels  \n",
       "0     [0.23367315624150653, 0.3188542931213096, 0.44...            0  \n",
       "1     [0.21772001107917457, 0.30858230910860185, 0.4...            0  \n",
       "2     [0.21621107872193918, 0.2931501517807278, 0.49...            1  \n",
       "3     [0.18708066801123957, 0.3254286696422012, 0.48...            0  \n",
       "4     [0.27190308227016163, 0.3106431771033703, 0.41...            2  \n",
       "...                                                 ...          ...  \n",
       "8345  [0.21459188864785964, 0.31366076359960604, 0.4...            1  \n",
       "8346  [0.269000070425039, 0.34131314969312876, 0.389...            1  \n",
       "8347  [0.21888120446599127, 0.3412431901403461, 0.43...            0  \n",
       "8348  [0.20641056282045653, 0.34472664869425257, 0.4...            1  \n",
       "8349  [0.3212917646215967, 0.3253892887523385, 0.353...            1  \n",
       "\n",
       "[8350 rows x 24 columns]"
      ]
     },
     "execution_count": 43,
     "metadata": {},
     "output_type": "execute_result"
    }
   ],
   "source": [
    "from sklearn.preprocessing import LabelEncoder\n",
    "le = LabelEncoder()\n",
    "# tokenizer_transformer = XLNetTokenizer.from_pretrained('xlnet-large-cased')\n",
    "test_labels = np.asarray(le.fit_transform(articletestdata_hybridoutput['bias_text']))\n",
    "\n",
    "articletestdata_hybridoutput[\"real_labels\"] =test_labels\n",
    "articletestdata_hybridoutput"
   ]
  },
  {
   "cell_type": "code",
   "execution_count": 44,
   "metadata": {},
   "outputs": [
    {
     "data": {
      "text/plain": [
       "<AxesSubplot:>"
      ]
     },
     "execution_count": 44,
     "metadata": {},
     "output_type": "execute_result"
    },
    {
     "data": {
      "image/png": "[encoded data removed]",
      "text/plain": [
       "<Figure size 432x288 with 1 Axes>"
      ]
     },
     "metadata": {
      "needs_background": "light"
     },
     "output_type": "display_data"
    }
   ],
   "source": [
    "articletestdata_hybridoutput[\"hybrid_label\"].value_counts().plot.bar()"
   ]
  },
  {
   "cell_type": "code",
   "execution_count": 45,
   "metadata": {},
   "outputs": [
    {
     "data": {
      "text/plain": [
       "<AxesSubplot:>"
      ]
     },
     "execution_count": 45,
     "metadata": {},
     "output_type": "execute_result"
    },
    {
     "data": {
      "image/png": "[encoded data removed]",
      "text/plain": [
       "<Figure size 432x288 with 1 Axes>"
      ]
     },
     "metadata": {
      "needs_background": "light"
     },
     "output_type": "display_data"
    }
   ],
   "source": [
    "articletestdata_hybridoutput[\"real_labels\"].value_counts().plot.bar()"
   ]
  },
  {
   "cell_type": "code",
   "execution_count": 46,
   "metadata": {},
   "outputs": [
    {
     "data": {
      "text/plain": [
       "<AxesSubplot:>"
      ]
     },
     "execution_count": 46,
     "metadata": {},
     "output_type": "execute_result"
    },
    {
     "data": {
      "image/png": "[encoded data removed]",
      "text/plain": [
       "<Figure size 432x288 with 1 Axes>"
      ]
     },
     "metadata": {
      "needs_background": "light"
     },
     "output_type": "display_data"
    }
   ],
   "source": [
    "articletestdata_hybridoutput[articletestdata_hybridoutput[\"real_labels\"]==0][\"hybrid_label\"].value_counts().plot.bar()"
   ]
  },
  {
   "cell_type": "code",
   "execution_count": 47,
   "metadata": {},
   "outputs": [
    {
     "data": {
      "text/plain": [
       "<AxesSubplot:>"
      ]
     },
     "execution_count": 47,
     "metadata": {},
     "output_type": "execute_result"
    },
    {
     "data": {
      "image/png": "[encoded data removed]",
      "text/plain": [
       "<Figure size 432x288 with 1 Axes>"
      ]
     },
     "metadata": {
      "needs_background": "light"
     },
     "output_type": "display_data"
    }
   ],
   "source": [
    "articletestdata_hybridoutput[articletestdata_hybridoutput[\"real_labels\"]==1][\"hybrid_label\"].value_counts().plot.bar()"
   ]
  },
  {
   "cell_type": "code",
   "execution_count": 48,
   "metadata": {},
   "outputs": [
    {
     "data": {
      "text/plain": [
       "<AxesSubplot:>"
      ]
     },
     "execution_count": 48,
     "metadata": {},
     "output_type": "execute_result"
    },
    {
     "data": {
      "image/png": "[encoded data removed]",
      "text/plain": [
       "<Figure size 432x288 with 1 Axes>"
      ]
     },
     "metadata": {
      "needs_background": "light"
     },
     "output_type": "display_data"
    }
   ],
   "source": [
    "articletestdata_hybridoutput[articletestdata_hybridoutput[\"real_labels\"]==2][\"hybrid_label\"].value_counts().plot.bar()"
   ]
  },
  {
   "cell_type": "code",
   "execution_count": 49,
   "metadata": {},
   "outputs": [
    {
     "data": {
      "text/plain": [
       "0.37796407185628744"
      ]
     },
     "execution_count": 49,
     "metadata": {},
     "output_type": "execute_result"
    }
   ],
   "source": [
    "from sklearn.metrics import accuracy_score\n",
    "\n",
    "accuracy_score(articletestdata_hybridoutput[\"real_labels\"], articletestdata_hybridoutput[\"hybrid_label\"])"
   ]
  },
  {
   "cell_type": "code",
   "execution_count": 35,
   "metadata": {},
   "outputs": [],
   "source": [
    "import ast \n"
   ]
  },
  {
   "cell_type": "code",
   "execution_count": 50,
   "metadata": {},
   "outputs": [
    {
     "data": {
      "text/plain": [
       "(array([3.000e+00, 6.000e+00, 4.000e+00, 2.700e+01, 1.620e+02, 1.910e+02,\n",
       "        2.090e+02, 1.820e+02, 2.020e+02, 1.990e+02, 2.720e+02, 2.380e+02,\n",
       "        2.680e+02, 3.230e+02, 3.580e+02, 3.980e+02, 5.280e+02, 6.310e+02,\n",
       "        1.092e+03, 3.057e+03]),\n",
       " array([0.36363831, 0.39544349, 0.42724868, 0.45905386, 0.49085904,\n",
       "        0.52266423, 0.55446941, 0.58627459, 0.61807978, 0.64988496,\n",
       "        0.68169014, 0.71349532, 0.74530051, 0.77710569, 0.80891087,\n",
       "        0.84071606, 0.87252124, 0.90432642, 0.93613161, 0.96793679,\n",
       "        0.99974197]),\n",
       " <BarContainer object of 20 artists>)"
      ]
     },
     "execution_count": 50,
     "metadata": {},
     "output_type": "execute_result"
    },
    {
     "data": {
      "image/png": "[encoded data removed]",
      "text/plain": [
       "<Figure size 432x288 with 1 Axes>"
      ]
     },
     "metadata": {
      "needs_background": "light"
     },
     "output_type": "display_data"
    }
   ],
   "source": [
    "nn_probs = list(articletestdata_hybridoutput[\"hybrid_nn_probs\"])\n",
    "nn_probs = [ast.literal_eval(s) for s in nn_probs]\n",
    "nn_max_probs = np.amax(np.array(nn_probs), axis = 1)\n",
    "plt.hist(nn_max_probs, bins = 20)"
   ]
  },
  {
   "cell_type": "code",
   "execution_count": 51,
   "metadata": {},
   "outputs": [
    {
     "data": {
      "text/plain": [
       "(array([2.100e+01, 8.200e+01, 2.130e+02, 5.520e+02, 1.005e+03, 1.486e+03,\n",
       "        1.592e+03, 1.373e+03, 1.010e+03, 5.780e+02, 2.430e+02, 1.110e+02,\n",
       "        4.700e+01, 1.900e+01, 5.000e+00, 6.000e+00, 4.000e+00, 1.000e+00,\n",
       "        0.000e+00, 2.000e+00]),\n",
       " array([0.35046001, 0.36430655, 0.3781531 , 0.39199965, 0.40584619,\n",
       "        0.41969274, 0.43353929, 0.44738584, 0.46123238, 0.47507893,\n",
       "        0.48892548, 0.50277202, 0.51661857, 0.53046512, 0.54431166,\n",
       "        0.55815821, 0.57200476, 0.58585131, 0.59969785, 0.6135444 ,\n",
       "        0.62739095]),\n",
       " <BarContainer object of 20 artists>)"
      ]
     },
     "execution_count": 51,
     "metadata": {},
     "output_type": "execute_result"
    },
    {
     "data": {
      "image/png": "[encoded data removed]",
      "text/plain": [
       "<Figure size 432x288 with 1 Axes>"
      ]
     },
     "metadata": {
      "needs_background": "light"
     },
     "output_type": "display_data"
    }
   ],
   "source": [
    "tfidf_probs = list(articletestdata_hybridoutput[\"hybrid_tfidf_probs\"])\n",
    "tfidf_probs = [ast.literal_eval(s) for s in tfidf_probs]\n",
    "tfidf_max_probs = np.amax(np.array(tfidf_probs), axis = 1)\n",
    "plt.hist(tfidf_max_probs, bins = 20)"
   ]
  },
  {
   "cell_type": "code",
   "execution_count": 53,
   "metadata": {},
   "outputs": [
    {
     "data": {
      "text/plain": [
       "<AxesSubplot:>"
      ]
     },
     "execution_count": 53,
     "metadata": {},
     "output_type": "execute_result"
    },
    {
     "data": {
      "image/png": "[encoded data removed]",
      "text/plain": [
       "<Figure size 432x288 with 1 Axes>"
      ]
     },
     "metadata": {
      "needs_background": "light"
     },
     "output_type": "display_data"
    }
   ],
   "source": [
    "articletestdata_hybridoutput[articletestdata_hybridoutput[\"biaslabel\"]==\"Neutral\"][\"pred_labels\"].value_counts().plot.bar()"
   ]
  },
  {
   "cell_type": "code",
   "execution_count": 54,
   "metadata": {},
   "outputs": [
    {
     "data": {
      "text/plain": [
       "<AxesSubplot:>"
      ]
     },
     "execution_count": 54,
     "metadata": {},
     "output_type": "execute_result"
    },
    {
     "data": {
      "image/png": "[encoded data removed]",
      "text/plain": [
       "<Figure size 432x288 with 1 Axes>"
      ]
     },
     "metadata": {
      "needs_background": "light"
     },
     "output_type": "display_data"
    }
   ],
   "source": [
    "articletestdata_hybridoutput[articletestdata_hybridoutput[\"biaslabel\"]==\"Very Liberal\"][\"pred_labels\"].value_counts().plot.bar()"
   ]
  },
  {
   "cell_type": "code",
   "execution_count": 55,
   "metadata": {},
   "outputs": [
    {
     "data": {
      "text/plain": [
       "<AxesSubplot:>"
      ]
     },
     "execution_count": 55,
     "metadata": {},
     "output_type": "execute_result"
    },
    {
     "data": {
      "image/png": "[encoded data removed]",
      "text/plain": [
       "<Figure size 432x288 with 1 Axes>"
      ]
     },
     "metadata": {
      "needs_background": "light"
     },
     "output_type": "display_data"
    }
   ],
   "source": [
    "articletestdata_hybridoutput[articletestdata_hybridoutput[\"biaslabel\"]==\"Very Conservative\"][\"pred_labels\"].value_counts().plot.bar()"
   ]
  },
  {
   "cell_type": "code",
   "execution_count": null,
   "metadata": {},
   "outputs": [],
   "source": []
  }
 ],
 "metadata": {
  "kernelspec": {
   "display_name": "Python 3",
   "language": "python",
   "name": "python3"
  },
  "language_info": {
   "codemirror_mode": {
    "name": "ipython",
    "version": 3
   },
   "file_extension": ".py",
   "mimetype": "text/x-python",
   "name": "python",
   "nbconvert_exporter": "python",
   "pygments_lexer": "ipython3",
   "version": "3.8.5"
  }
 },
 "nbformat": 4,
 "nbformat_minor": 5
}
