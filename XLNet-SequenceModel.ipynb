{
 "cells": [
  {
   "cell_type": "code",
   "execution_count": 1,
   "metadata": {},
   "outputs": [],
   "source": [
    "import json\n",
    "import pandas as pd\n",
    "import numpy as np\n",
    "import os\n",
    "import sys\n",
    "import tensorflow as tf\n",
    "from time import time\n",
    "import io\n",
    "import re\n",
    "\n",
    "import pickle\n",
    "from csv import reader\n",
    "import matplotlib.pyplot as plt\n",
    "\n",
    "import matplotlib.pyplot as plt\n",
    "from matplotlib import colors\n",
    "from matplotlib.ticker import PercentFormatter\n",
    "\n",
    "from tensorflow.keras import layers\n",
    "from tensorflow.keras.backend import sparse_categorical_crossentropy\n",
    "from tensorflow.keras.layers import Dense, Flatten\n",
    "from tensorflow.keras.utils import plot_model\n",
    "\n",
    "# physical_devices = tf.config.list_physical_devices('GPU') \n",
    "# tf.config.experimental.set_memory_growth(physical_devices[0], True)\n",
    "\n",
    "from datetime import datetime\n",
    "from collections import defaultdict\n",
    "\n",
    "from sklearn.model_selection import train_test_split\n",
    "\n"
   ]
  },
  {
   "cell_type": "code",
   "execution_count": 2,
   "metadata": {},
   "outputs": [
    {
     "name": "stdout",
     "output_type": "stream",
     "text": [
      "Num GPUs Available:  1\n"
     ]
    }
   ],
   "source": [
    "print(\"Num GPUs Available: \", len(tf.config.experimental.list_physical_devices('GPU')))"
   ]
  },
  {
   "cell_type": "code",
   "execution_count": 3,
   "metadata": {},
   "outputs": [
    {
     "data": {
      "text/plain": [
       "[PhysicalDevice(name='/physical_device:CPU:0', device_type='CPU'),\n",
       " PhysicalDevice(name='/physical_device:GPU:0', device_type='GPU')]"
      ]
     },
     "execution_count": 3,
     "metadata": {},
     "output_type": "execute_result"
    }
   ],
   "source": [
    "tf.config.list_physical_devices()"
   ]
  },
  {
   "cell_type": "code",
   "execution_count": 4,
   "metadata": {},
   "outputs": [],
   "source": [
    "from transformers import TFXLNetForSequenceClassification, XLNetTokenizer"
   ]
  },
  {
   "cell_type": "markdown",
   "metadata": {},
   "source": [
    "## Data"
   ]
  },
  {
   "cell_type": "code",
   "execution_count": 5,
   "metadata": {},
   "outputs": [],
   "source": [
    "train_section = pd.read_table(\"Article-Bias-Prediction-main/data/randomtraindata.csv\", sep=',', index_col=0)\n",
    "test_section = pd.read_table(\"Article-Bias-Prediction-main/data/randomtestdata.csv\", sep=',', index_col=0)\n",
    "val_section = pd.read_table(\"Article-Bias-Prediction-main/data/randomtestdata.csv\", sep=',', index_col=0)\n"
   ]
  },
  {
   "cell_type": "code",
   "execution_count": 6,
   "metadata": {},
   "outputs": [
    {
     "data": {
      "text/html": [
       "<div>\n",
       "<style scoped>\n",
       "    .dataframe tbody tr th:only-of-type {\n",
       "        vertical-align: middle;\n",
       "    }\n",
       "\n",
       "    .dataframe tbody tr th {\n",
       "        vertical-align: top;\n",
       "    }\n",
       "\n",
       "    .dataframe thead th {\n",
       "        text-align: right;\n",
       "    }\n",
       "</style>\n",
       "<table border=\"1\" class=\"dataframe\">\n",
       "  <thead>\n",
       "    <tr style=\"text-align: right;\">\n",
       "      <th></th>\n",
       "      <th>topic</th>\n",
       "      <th>source</th>\n",
       "      <th>bias</th>\n",
       "      <th>url</th>\n",
       "      <th>title</th>\n",
       "      <th>date</th>\n",
       "      <th>authors</th>\n",
       "      <th>content</th>\n",
       "      <th>content_original</th>\n",
       "      <th>source_url</th>\n",
       "      <th>bias_text</th>\n",
       "      <th>ID</th>\n",
       "    </tr>\n",
       "  </thead>\n",
       "  <tbody>\n",
       "    <tr>\n",
       "      <th>0</th>\n",
       "      <td>coronavirus</td>\n",
       "      <td>The Guardian</td>\n",
       "      <td>0</td>\n",
       "      <td>https://www.theguardian.com/world/2020/mar/26/...</td>\n",
       "      <td>US coronavirus stimulus checks: are you eligib...</td>\n",
       "      <td>2020-03-26</td>\n",
       "      <td>Lauren Aratani</td>\n",
       "      <td>Most taxpayers will get a check from the $ 2tn...</td>\n",
       "      <td>Most taxpayers will get a check from the $2tn ...</td>\n",
       "      <td>www.theguardian.com</td>\n",
       "      <td>left</td>\n",
       "      <td>IBgtqEHUEcjyMriR</td>\n",
       "    </tr>\n",
       "    <tr>\n",
       "      <th>1</th>\n",
       "      <td>healthcare</td>\n",
       "      <td>Washington Times</td>\n",
       "      <td>2</td>\n",
       "      <td>http://www.washingtontimes.com/news/2013/feb/1...</td>\n",
       "      <td>After Obamacare health exchange deadline passe...</td>\n",
       "      <td>2013-02-16</td>\n",
       "      <td>Tom Howell Jr.</td>\n",
       "      <td>The backbone of President Obama ’ s health car...</td>\n",
       "      <td>The backbone of President Obama’s health care ...</td>\n",
       "      <td>www.washingtontimes.com</td>\n",
       "      <td>right</td>\n",
       "      <td>LC3zdsbACLILzBhY</td>\n",
       "    </tr>\n",
       "    <tr>\n",
       "      <th>2</th>\n",
       "      <td>politics</td>\n",
       "      <td>National Review</td>\n",
       "      <td>2</td>\n",
       "      <td>https://www.nationalreview.com/2019/08/the-doj...</td>\n",
       "      <td>The DOJ Will Not Prosecute James Comey over Tr...</td>\n",
       "      <td>2019-08-03</td>\n",
       "      <td>Andrew C. Mccarthy, John Mccormack, Michael Br...</td>\n",
       "      <td>Then-FBI Director James Comey testifying on Ca...</td>\n",
       "      <td>Then-FBI Director James Comey testifying on Ca...</td>\n",
       "      <td>www.nationalreview.com</td>\n",
       "      <td>right</td>\n",
       "      <td>W084H19Vniu1Z24f</td>\n",
       "    </tr>\n",
       "    <tr>\n",
       "      <th>3</th>\n",
       "      <td>media_bias</td>\n",
       "      <td>NPR Online News</td>\n",
       "      <td>1</td>\n",
       "      <td>https://www.npr.org/2018/08/27/642356784/fox-n...</td>\n",
       "      <td>Fox News Hasn't Always Shared Robert Driscoll'...</td>\n",
       "      <td>2018-08-27</td>\n",
       "      <td>David Folkenflik</td>\n",
       "      <td>Fox News Has n't Always Shared Robert Driscoll...</td>\n",
       "      <td>Fox News Hasn't Always Shared Robert Driscoll'...</td>\n",
       "      <td>www.npr.org</td>\n",
       "      <td>center</td>\n",
       "      <td>Lcvv69hlu4J5Foc3</td>\n",
       "    </tr>\n",
       "    <tr>\n",
       "      <th>4</th>\n",
       "      <td>trade</td>\n",
       "      <td>Bloomberg</td>\n",
       "      <td>1</td>\n",
       "      <td>https://www.bloomberg.com/news/articles/2019-0...</td>\n",
       "      <td>Wilbur Ross Says U.S., China ‘Miles and Miles’...</td>\n",
       "      <td>2019-01-24</td>\n",
       "      <td>Brendan Murray, Andrew Mayeda</td>\n",
       "      <td>LISTEN TO ARTICLE 2:15 SHARE THIS ARTICLE Shar...</td>\n",
       "      <td>LISTEN TO ARTICLE 2:15 SHARE THIS ARTICLE Shar...</td>\n",
       "      <td>www.bloomberg.com</td>\n",
       "      <td>center</td>\n",
       "      <td>ZW7MmqXMtiJgL6jY</td>\n",
       "    </tr>\n",
       "  </tbody>\n",
       "</table>\n",
       "</div>"
      ],
      "text/plain": [
       "         topic            source  bias  \\\n",
       "0  coronavirus      The Guardian     0   \n",
       "1   healthcare  Washington Times     2   \n",
       "2     politics   National Review     2   \n",
       "3   media_bias   NPR Online News     1   \n",
       "4        trade         Bloomberg     1   \n",
       "\n",
       "                                                 url  \\\n",
       "0  https://www.theguardian.com/world/2020/mar/26/...   \n",
       "1  http://www.washingtontimes.com/news/2013/feb/1...   \n",
       "2  https://www.nationalreview.com/2019/08/the-doj...   \n",
       "3  https://www.npr.org/2018/08/27/642356784/fox-n...   \n",
       "4  https://www.bloomberg.com/news/articles/2019-0...   \n",
       "\n",
       "                                               title        date  \\\n",
       "0  US coronavirus stimulus checks: are you eligib...  2020-03-26   \n",
       "1  After Obamacare health exchange deadline passe...  2013-02-16   \n",
       "2  The DOJ Will Not Prosecute James Comey over Tr...  2019-08-03   \n",
       "3  Fox News Hasn't Always Shared Robert Driscoll'...  2018-08-27   \n",
       "4  Wilbur Ross Says U.S., China ‘Miles and Miles’...  2019-01-24   \n",
       "\n",
       "                                             authors  \\\n",
       "0                                     Lauren Aratani   \n",
       "1                                     Tom Howell Jr.   \n",
       "2  Andrew C. Mccarthy, John Mccormack, Michael Br...   \n",
       "3                                   David Folkenflik   \n",
       "4                      Brendan Murray, Andrew Mayeda   \n",
       "\n",
       "                                             content  \\\n",
       "0  Most taxpayers will get a check from the $ 2tn...   \n",
       "1  The backbone of President Obama ’ s health car...   \n",
       "2  Then-FBI Director James Comey testifying on Ca...   \n",
       "3  Fox News Has n't Always Shared Robert Driscoll...   \n",
       "4  LISTEN TO ARTICLE 2:15 SHARE THIS ARTICLE Shar...   \n",
       "\n",
       "                                    content_original               source_url  \\\n",
       "0  Most taxpayers will get a check from the $2tn ...      www.theguardian.com   \n",
       "1  The backbone of President Obama’s health care ...  www.washingtontimes.com   \n",
       "2  Then-FBI Director James Comey testifying on Ca...   www.nationalreview.com   \n",
       "3  Fox News Hasn't Always Shared Robert Driscoll'...              www.npr.org   \n",
       "4  LISTEN TO ARTICLE 2:15 SHARE THIS ARTICLE Shar...        www.bloomberg.com   \n",
       "\n",
       "  bias_text                ID  \n",
       "0      left  IBgtqEHUEcjyMriR  \n",
       "1     right  LC3zdsbACLILzBhY  \n",
       "2     right  W084H19Vniu1Z24f  \n",
       "3    center  Lcvv69hlu4J5Foc3  \n",
       "4    center  ZW7MmqXMtiJgL6jY  "
      ]
     },
     "execution_count": 6,
     "metadata": {},
     "output_type": "execute_result"
    }
   ],
   "source": [
    "train_section.head()"
   ]
  },
  {
   "cell_type": "code",
   "execution_count": 7,
   "metadata": {},
   "outputs": [
    {
     "data": {
      "text/plain": [
       "'The real fake-out is that the Left is capable of honestly policing fake news .\\nLast week , Harvard released a new research guide on “ fake news . ”\\n“ Fake news , ” of course , is the source of all evil , according to the Left . It ’ s only thanks to lies that Donald Trump was elected ! Instead of targeting stories that are completely false , however , the Left applies the label of “ fake news ” to outlets that report factual stories but draw political conclusions from them — in other words , they call everything with which they disagree “ fake news . ”\\nWhich means that their talk of “ fake news ” is actually fake news .\\nOf course , the largest “ fake news ” item of all is that “ objective ” news sources aren ’ t biased in their coverage . They obviously are , and it ’ s why conservatives have warmed to President Trump ’ s labeling left-leaning outlets such as CNN “ fake news ” even if CNN isn ’ t actually reporting anything factually false but merely drawing convenient leftist inferences from overblown coverage of core facts .\\nNonetheless , the Harvard guide , written by “ social justice ” professor Melissa Zimdars of Merrimack College , purports to compile a handy-dandy list of fake-news sites to avoid . The list provides ten different ways to label the stories on such sites :\\n‐proceed with caution ( “ sources that may be reliable but whose contents require further verification ” )\\nTwo other indicators are used for leftist sites that meet Zimdars ’ s politically correct standards :\\n‐credible ( “ sources that circulate news and information in a manner consistent with traditional and ethical practices in journalism ” )\\nSo , for example , AlterNet.org , a far-left site , is labeled “ political ” and “ credible. ” Here ’ s one of their top headlines as I write this , by one John Feffer : “ The Trump Dystopian Nightmare : Nuclear War , Climate Change , and a Clash of Civilizations Are All on the Horizon. ” ███ is labeled unknown . The website I run , the Daily Wire , is labeled with “ extreme bias , ” as is the Daily Signal , the website of the Heritage Foundation , as well as the Drudge Report , which is essentially a linker site . The Daily Caller is called “ political , ” “ clickbait , ” and “ unreliable. ” The Blaze is called “ political ” and “ clickbait. ” The list doesn ’ t mention Barack Obama ’ s favorite outlet , Vox ; it doesn ’ t mention Slate or Salon , either .\\nEvery outlet has its bias . We ’ re all better off admitting our bias openly rather than slathering facts in opinions and then conflating the two .\\nNo wonder conservatives don ’ t trust the media — or the supposed media police . They ’ re too busy upholding the myth of mainstream-media objectivity to be concerned with the truth , which is that every outlet has its bias , and that we ’ re all better off admitting our bias openly rather than slathering facts in opinions and then conflating the two . I ’ ll proudly state that ███ and the Daily Wire are more honest than CNN ; both outlets have an editorial point of view reflected in their content , but neither mistakes news for opinion or opinion for news . The supposedly objective outlets , by hiding behind the façade of that faux objectivity , constantly conflate their opinions with their news .\\nHere ’ s the reality : We ’ re not all going to be able to agree on narrative . But we should strive to find the facts we can discuss together .\\nSo , how do we identify the facts ? Here are a few tips for determining reliability of information — tips that we all ( including me ) fail to use consistently but that could prove handy :\\n1 ) Locate the information intersection . If we view news coverage from various sides of the aisle as lines on a grid , the point where they converge — the common point of coverage – gives us the facts . So long as an outlet reports those facts , it ’ s not fake news . It ’ s just opinion journalism , unless it obviously treats opinions as facts . So if Huffington Post and ███ report the same underlying facts but disagree about the ramifications , we can at least identify the underlying facts worth discussing . This does mean that you should survey the literature — and that you should move outside your Facebook feed from time to time .\\n2 ) Wait 24 hours to believe supremely controversial claims . The Twitter/Facebook news cycle favors the people who are the first on a story , but exclusivity and speed often trump reliability . That ’ s why veteran Twitter watchers almost never tweet out early reports from shooting scenes : The information from the ground evolves over time . Most of us on Twitter fall victim to this from time to time . “ Too good to check ” sometimes overrides better judgment .\\n3 ) Anonymous sources are anonymous sources . Don ’ t put tons of weight on anonymous sources unless an organization with a history of caution has a bunch of them claiming the same thing . This also means that when one anonymous source denies an allegation from another anonymous source , you shouldn ’ t just believe the anonymous source you like .\\n4 ) Outlets that make corrections are more reliable . If an outlet issues corrections , it is more likely to be more reliable than others . Outlets that double down after they ’ ve been proved wrong are either stubbornly right or — far more likely — stubbornly wrong . That doesn ’ t mean that outlets that constantly back down are better than those that don ’ t . It means that outlets that never back down are probably willing to fib to you .\\n5 ) Consider the ideology . Let ’ s say a site leans right but will print information that counters its prevailing orthodoxy or will tolerate voices of dissent within a band of the spectrum . It ’ s more likely that such a site will treat information with respect , since the ideology doesn ’ t trump the facts . It ’ s dangerous when a site decides to quash news or rewrite news based on the ramifications of the news .\\n6 ) Read the whole article . Don ’ t just read the headline . We all read the headlines for shorthand , but all too often the real point of an article is buried in paragraph 19 , as all the mainstream outlets understand ( which is why , as good little leftists , they bury all the exonerating information about Trump-Russia connections deep in their articles ) . More complexity in information makes it more difficult to digest and tempts us to filter out new or conflicting info , but it also makes our information more accurate .\\nAll in all , don ’ t believe that everything the Left labels “ fake news ” is fake news . It ’ s far more likely that the real fake news is that the Left is capable of policing fake news honestly , rather than merely determining that sources they hate must be ruled out of the news realm entirely .'"
      ]
     },
     "execution_count": 7,
     "metadata": {},
     "output_type": "execute_result"
    }
   ],
   "source": [
    "train_section.iloc[10].content"
   ]
  },
  {
   "cell_type": "code",
   "execution_count": 8,
   "metadata": {},
   "outputs": [],
   "source": [
    "# train_section = train_section[:20000]\n",
    "# val_section = train_section[:4000]\n",
    "\n",
    "# test_section = pd.read_table(\"Article-Bias-Prediction-main/data/randomtestdata.csv\", sep=',', index_col=0)\n",
    "# val_section = pd.read_table(\"Article-Bias-Prediction-main/data/randomtestdata.csv\", sep=',', index_col=0)\n"
   ]
  },
  {
   "cell_type": "code",
   "execution_count": 9,
   "metadata": {},
   "outputs": [
    {
     "data": {
      "text/plain": [
       "<AxesSubplot:>"
      ]
     },
     "execution_count": 9,
     "metadata": {},
     "output_type": "execute_result"
    },
    {
     "data": {
      "image/png": "[encoded data removed]",
      "text/plain": [
       "<Figure size 432x288 with 1 Axes>"
      ]
     },
     "metadata": {
      "needs_background": "light"
     },
     "output_type": "display_data"
    }
   ],
   "source": [
    "fig, ax = plt.subplots()\n",
    "train_section[\"bias_text\"].value_counts().plot(ax=ax, kind=\"bar\")"
   ]
  },
  {
   "cell_type": "code",
   "execution_count": 10,
   "metadata": {},
   "outputs": [
    {
     "data": {
      "text/plain": [
       "<AxesSubplot:>"
      ]
     },
     "execution_count": 10,
     "metadata": {},
     "output_type": "execute_result"
    },
    {
     "data": {
      "image/png": "[encoded data removed]",
      "text/plain": [
       "<Figure size 432x288 with 1 Axes>"
      ]
     },
     "metadata": {
      "needs_background": "light"
     },
     "output_type": "display_data"
    }
   ],
   "source": [
    "fig, ax = plt.subplots()\n",
    "val_section[\"bias_text\"].value_counts().plot(ax=ax, kind=\"bar\")"
   ]
  },
  {
   "cell_type": "code",
   "execution_count": 11,
   "metadata": {},
   "outputs": [
    {
     "data": {
      "text/plain": [
       "<AxesSubplot:>"
      ]
     },
     "execution_count": 11,
     "metadata": {},
     "output_type": "execute_result"
    },
    {
     "data": {
      "image/png": "[encoded data removed]",
      "text/plain": [
       "<Figure size 432x288 with 1 Axes>"
      ]
     },
     "metadata": {
      "needs_background": "light"
     },
     "output_type": "display_data"
    }
   ],
   "source": [
    "fig, ax = plt.subplots()\n",
    "test_section[\"bias_text\"].value_counts().plot(ax=ax, kind=\"bar\")"
   ]
  },
  {
   "cell_type": "markdown",
   "metadata": {},
   "source": [
    "## Hyperparameters"
   ]
  },
  {
   "cell_type": "code",
   "execution_count": 12,
   "metadata": {},
   "outputs": [],
   "source": [
    "MAX_LEN = 512\n",
    "nepochs = 20\n",
    "nbatch = 16"
   ]
  },
  {
   "cell_type": "code",
   "execution_count": 13,
   "metadata": {},
   "outputs": [],
   "source": [
    "data_dir = \"./data\"\n",
    "log_dir = f\"{data_dir}/experiments/logs\"\n",
    "save_path = f\"{data_dir}/experiments/XLNetmodellarge\"\n",
    "cache_path_train = f\"{data_dir}/cache/XLNetmodellarge.train\"\n",
    "cache_path_test = f\"{data_dir}/cache/XLNetmodellarge.test\""
   ]
  },
  {
   "cell_type": "markdown",
   "metadata": {},
   "source": [
    "## Transforming Data"
   ]
  },
  {
   "cell_type": "code",
   "execution_count": 14,
   "metadata": {},
   "outputs": [],
   "source": [
    "from sklearn.preprocessing import LabelEncoder\n",
    "\n",
    "le = LabelEncoder()\n",
    "train_labels = np.asarray(le.fit_transform(train_section['bias_text']))\n",
    "val_labels = np.asarray(le.transform(val_section['bias_text']))"
   ]
  },
  {
   "cell_type": "code",
   "execution_count": 15,
   "metadata": {},
   "outputs": [],
   "source": [
    "# le.inverse_transform(val_labels)[:20]"
   ]
  },
  {
   "cell_type": "code",
   "execution_count": 16,
   "metadata": {},
   "outputs": [
    {
     "data": {
      "text/plain": [
       "3"
      ]
     },
     "execution_count": 16,
     "metadata": {},
     "output_type": "execute_result"
    }
   ],
   "source": [
    "len(np.unique(train_labels))"
   ]
  },
  {
   "cell_type": "code",
   "execution_count": 17,
   "metadata": {},
   "outputs": [
    {
     "data": {
      "application/vnd.jupyter.widget-view+json": {
       "model_id": "acfa43098ad24bb5b214537caa897063",
       "version_major": 2,
       "version_minor": 0
      },
      "text/plain": [
       "Downloading:   0%|          | 0.00/798k [00:00<?, ?B/s]"
      ]
     },
     "metadata": {},
     "output_type": "display_data"
    },
    {
     "data": {
      "application/vnd.jupyter.widget-view+json": {
       "model_id": "73630351546045b58352d5e05f88314c",
       "version_major": 2,
       "version_minor": 0
      },
      "text/plain": [
       "Downloading:   0%|          | 0.00/1.38M [00:00<?, ?B/s]"
      ]
     },
     "metadata": {},
     "output_type": "display_data"
    }
   ],
   "source": [
    "tokenizer_transformer = XLNetTokenizer.from_pretrained('xlnet-large-cased')"
   ]
  },
  {
   "cell_type": "code",
   "execution_count": 18,
   "metadata": {},
   "outputs": [],
   "source": [
    "\n",
    "def create_input_array(df, tokenizer):\n",
    "    sentences = df.content.values\n",
    "\n",
    "    input_ids = []\n",
    "    attention_masks = []\n",
    "    token_type_ids = []\n",
    "\n",
    "    for sent in sentences:\n",
    "        # `encode_plus` will:\n",
    "        #   (1) Tokenize the sentence.\n",
    "        #   (2) Prepend the `[CLS]` token to the start.\n",
    "        #   (3) Append the `[SEP]` token to the end.\n",
    "        #   (4) Map tokens to their IDs.\n",
    "        #   (5) Pad or truncate the sentence to `max_length`\n",
    "        #   (6) Create attention masks for [PAD] tokens.\n",
    "        encoded_dict = tokenizer.encode_plus(\n",
    "            sent,  # Sentence to encode.\n",
    "            add_special_tokens=True,  # Add '[CLS]' and '[SEP]'\n",
    "            max_length=MAX_LEN,  # Pad & truncate all sentences.\n",
    "                pad_to_max_length=True,\n",
    "                return_attention_mask=True,  # Construct attn. masks.\n",
    "                return_tensors='tf',  # Return tf tensors.\n",
    "            )\n",
    "\n",
    "        # Add the encoded sentence to the list.\n",
    "        input_ids.append(encoded_dict['input_ids'])\n",
    "\n",
    "        # And its attention mask (simply differentiates padding from non-padding).\n",
    "        attention_masks.append(encoded_dict['attention_mask'])\n",
    "\n",
    "        token_type_ids.append(encoded_dict['token_type_ids'])\n",
    "\n",
    "    input_ids = tf.convert_to_tensor(input_ids)\n",
    "    attention_masks = tf.convert_to_tensor(attention_masks)\n",
    "    token_type_ids = tf.convert_to_tensor(token_type_ids)\n",
    "\n",
    "\n",
    "    return input_ids, attention_masks, token_type_ids\n",
    "#     return input_ids, attention_masks\n",
    "\n"
   ]
  },
  {
   "cell_type": "code",
   "execution_count": 19,
   "metadata": {},
   "outputs": [
    {
     "name": "stderr",
     "output_type": "stream",
     "text": [
      "Truncation was not explicitly activated but `max_length` is provided a specific value, please use `truncation=True` to explicitly truncate examples to max length. Defaulting to 'longest_first' truncation strategy. If you encode pairs of sequences (GLUE-style) with the tokenizer you can select this strategy more precisely by providing a specific strategy to `truncation`.\n",
      "/usr/local/lib/python3.8/dist-packages/transformers/tokenization_utils_base.py:2104: FutureWarning: The `pad_to_max_length` argument is deprecated and will be removed in a future version, use `padding=True` or `padding='longest'` to pad to the longest sequence in the batch, or use `padding='max_length'` to pad to a max length. In this case, you can give a specific length with `max_length` (e.g. `max_length=45`) or leave max_length to None to pad to the maximal input size of the model (e.g. 512 for Bert).\n",
      "  warnings.warn(\n"
     ]
    }
   ],
   "source": [
    "train_inputs = [create_input_array(train_section, tokenizer=tokenizer_transformer)]\n",
    "val_inputs = [create_input_array(val_section, tokenizer=tokenizer_transformer)]"
   ]
  },
  {
   "cell_type": "code",
   "execution_count": 20,
   "metadata": {},
   "outputs": [],
   "source": [
    "def convert_inputs_to_tf_dataset(inputs):\n",
    "    # args.max_seq_len = 256\n",
    "    ids = inputs[0][0]\n",
    "    masks = inputs[0][1]\n",
    "    token_types = inputs[0][2]\n",
    "\n",
    "    ids = tf.reshape(ids, (-1, MAX_LEN))\n",
    "    print(\"Input ids shape: \", ids.shape)\n",
    "    masks = tf.reshape(masks, (-1, MAX_LEN))\n",
    "    print(\"Input Masks shape: \", masks.shape)\n",
    "    token_types = tf.reshape(token_types, (-1, MAX_LEN))\n",
    "    print(\"Token type ids shape: \", token_types.shape)\n",
    "\n",
    "    ids=ids.numpy()\n",
    "    masks = masks.numpy()\n",
    "    token_types = token_types.numpy()\n",
    "#     return[ids]\n",
    "#     return [ids, masks, token_types]\n",
    "    return [ids, masks]"
   ]
  },
  {
   "cell_type": "code",
   "execution_count": 21,
   "metadata": {},
   "outputs": [
    {
     "name": "stdout",
     "output_type": "stream",
     "text": [
      "Input ids shape:  (27978, 512)\n",
      "Input Masks shape:  (27978, 512)\n",
      "Token type ids shape:  (27978, 512)\n",
      "Input ids shape:  (1300, 512)\n",
      "Input Masks shape:  (1300, 512)\n",
      "Token type ids shape:  (1300, 512)\n"
     ]
    }
   ],
   "source": [
    "train_data = convert_inputs_to_tf_dataset(train_inputs)\n",
    "val_data = convert_inputs_to_tf_dataset(val_inputs)"
   ]
  },
  {
   "cell_type": "code",
   "execution_count": 22,
   "metadata": {},
   "outputs": [
    {
     "data": {
      "text/plain": [
       "[array([[ 1073, 11515,    53, ...,  4094,     4,     3],\n",
       "        [   32, 21978,    20, ...,   120,     4,     3],\n",
       "        [ 1019,    13, 16580, ...,    71,     4,     3],\n",
       "        ...,\n",
       "        [  122,   132,    39, ...,    17,     4,     3],\n",
       "        [ 9874,    17,    14, ...,    17,     4,     3],\n",
       "        [   67,    18,   307, ...,  6046,     4,     3]], dtype=int32),\n",
       " array([[1, 1, 1, ..., 1, 1, 1],\n",
       "        [1, 1, 1, ..., 1, 1, 1],\n",
       "        [1, 1, 1, ..., 1, 1, 1],\n",
       "        ...,\n",
       "        [1, 1, 1, ..., 1, 1, 1],\n",
       "        [1, 1, 1, ..., 1, 1, 1],\n",
       "        [1, 1, 1, ..., 1, 1, 1]], dtype=int32)]"
      ]
     },
     "execution_count": 22,
     "metadata": {},
     "output_type": "execute_result"
    }
   ],
   "source": [
    "train_data"
   ]
  },
  {
   "cell_type": "code",
   "execution_count": 23,
   "metadata": {},
   "outputs": [
    {
     "data": {
      "application/vnd.jupyter.widget-view+json": {
       "model_id": "41be0d317e2d4ff983b2649081f4eec9",
       "version_major": 2,
       "version_minor": 0
      },
      "text/plain": [
       "Downloading:   0%|          | 0.00/761 [00:00<?, ?B/s]"
      ]
     },
     "metadata": {},
     "output_type": "display_data"
    },
    {
     "data": {
      "application/vnd.jupyter.widget-view+json": {
       "model_id": "2c4cfd2b18f948bdb361113885666b01",
       "version_major": 2,
       "version_minor": 0
      },
      "text/plain": [
       "Downloading:   0%|          | 0.00/1.57G [00:00<?, ?B/s]"
      ]
     },
     "metadata": {},
     "output_type": "display_data"
    },
    {
     "name": "stderr",
     "output_type": "stream",
     "text": [
      "Some layers from the model checkpoint at xlnet-large-cased were not used when initializing TFXLNetForSequenceClassification: ['lm_loss']\n",
      "- This IS expected if you are initializing TFXLNetForSequenceClassification from the checkpoint of a model trained on another task or with another architecture (e.g. initializing a BertForSequenceClassification model from a BertForPreTraining model).\n",
      "- This IS NOT expected if you are initializing TFXLNetForSequenceClassification from the checkpoint of a model that you expect to be exactly identical (initializing a BertForSequenceClassification model from a BertForSequenceClassification model).\n",
      "Some layers of TFXLNetForSequenceClassification were not initialized from the model checkpoint at xlnet-large-cased and are newly initialized: ['logits_proj', 'sequence_summary']\n",
      "You should probably TRAIN this model on a down-stream task to be able to use it for predictions and inference.\n"
     ]
    }
   ],
   "source": [
    "model = TFXLNetForSequenceClassification.from_pretrained(\"xlnet-large-cased\", num_labels=len(np.unique(train_labels)))\n"
   ]
  },
  {
   "cell_type": "code",
   "execution_count": 24,
   "metadata": {},
   "outputs": [
    {
     "name": "stdout",
     "output_type": "stream",
     "text": [
      "Model: \"tfxl_net_for_sequence_classification\"\n",
      "_________________________________________________________________\n",
      "Layer (type)                 Output Shape              Param #   \n",
      "=================================================================\n",
      "transformer (TFXLNetMainLaye multiple                  360268800 \n",
      "_________________________________________________________________\n",
      "sequence_summary (TFSequence multiple                  1049600   \n",
      "_________________________________________________________________\n",
      "logits_proj (Dense)          multiple                  3075      \n",
      "=================================================================\n",
      "Total params: 361,321,475\n",
      "Trainable params: 361,321,475\n",
      "Non-trainable params: 0\n",
      "_________________________________________________________________\n"
     ]
    }
   ],
   "source": [
    "model.summary()"
   ]
  },
  {
   "cell_type": "code",
   "execution_count": 25,
   "metadata": {},
   "outputs": [
    {
     "name": "stdout",
     "output_type": "stream",
     "text": [
      "Epoch 1/20\n",
      "WARNING:tensorflow:The parameters `output_attentions`, `output_hidden_states` and `use_cache` cannot be updated when calling a model.They have to be set to True/False in the config object (i.e.: `config=XConfig.from_pretrained('name', output_attentions=True)`).\n",
      "WARNING:tensorflow:AutoGraph could not transform <bound method Socket.send of <zmq.sugar.socket.Socket object at 0x7f74aad9ab80>> and will run it as-is.\n",
      "Please report this to the TensorFlow team. When filing the bug, set the verbosity to 10 (on Linux, `export AUTOGRAPH_VERBOSITY=10`) and attach the full output.\n",
      "Cause: module, class, method, function, traceback, frame, or code object was expected, got cython_function_or_method\n",
      "To silence this warning, decorate the function with @tf.autograph.experimental.do_not_convert\n",
      "WARNING: AutoGraph could not transform <bound method Socket.send of <zmq.sugar.socket.Socket object at 0x7f74aad9ab80>> and will run it as-is.\n",
      "Please report this to the TensorFlow team. When filing the bug, set the verbosity to 10 (on Linux, `export AUTOGRAPH_VERBOSITY=10`) and attach the full output.\n",
      "Cause: module, class, method, function, traceback, frame, or code object was expected, got cython_function_or_method\n",
      "To silence this warning, decorate the function with @tf.autograph.experimental.do_not_convert\n",
      "WARNING:tensorflow:Gradients do not exist for variables ['tfxl_net_for_sequence_classification/transformer/mask_emb:0', 'tfxl_net_for_sequence_classification/transformer/layer_._0/rel_attn/r_s_bias:0', 'tfxl_net_for_sequence_classification/transformer/layer_._0/rel_attn/seg_embed:0', 'tfxl_net_for_sequence_classification/transformer/layer_._1/rel_attn/r_s_bias:0', 'tfxl_net_for_sequence_classification/transformer/layer_._1/rel_attn/seg_embed:0', 'tfxl_net_for_sequence_classification/transformer/layer_._2/rel_attn/r_s_bias:0', 'tfxl_net_for_sequence_classification/transformer/layer_._2/rel_attn/seg_embed:0', 'tfxl_net_for_sequence_classification/transformer/layer_._3/rel_attn/r_s_bias:0', 'tfxl_net_for_sequence_classification/transformer/layer_._3/rel_attn/seg_embed:0', 'tfxl_net_for_sequence_classification/transformer/layer_._4/rel_attn/r_s_bias:0', 'tfxl_net_for_sequence_classification/transformer/layer_._4/rel_attn/seg_embed:0', 'tfxl_net_for_sequence_classification/transformer/layer_._5/rel_attn/r_s_bias:0', 'tfxl_net_for_sequence_classification/transformer/layer_._5/rel_attn/seg_embed:0', 'tfxl_net_for_sequence_classification/transformer/layer_._6/rel_attn/r_s_bias:0', 'tfxl_net_for_sequence_classification/transformer/layer_._6/rel_attn/seg_embed:0', 'tfxl_net_for_sequence_classification/transformer/layer_._7/rel_attn/r_s_bias:0', 'tfxl_net_for_sequence_classification/transformer/layer_._7/rel_attn/seg_embed:0', 'tfxl_net_for_sequence_classification/transformer/layer_._8/rel_attn/r_s_bias:0', 'tfxl_net_for_sequence_classification/transformer/layer_._8/rel_attn/seg_embed:0', 'tfxl_net_for_sequence_classification/transformer/layer_._9/rel_attn/r_s_bias:0', 'tfxl_net_for_sequence_classification/transformer/layer_._9/rel_attn/seg_embed:0', 'tfxl_net_for_sequence_classification/transformer/layer_._10/rel_attn/r_s_bias:0', 'tfxl_net_for_sequence_classification/transformer/layer_._10/rel_attn/seg_embed:0', 'tfxl_net_for_sequence_classification/transformer/layer_._11/rel_attn/r_s_bias:0', 'tfxl_net_for_sequence_classification/transformer/layer_._11/rel_attn/seg_embed:0', 'tfxl_net_for_sequence_classification/transformer/layer_._12/rel_attn/r_s_bias:0', 'tfxl_net_for_sequence_classification/transformer/layer_._12/rel_attn/seg_embed:0', 'tfxl_net_for_sequence_classification/transformer/layer_._13/rel_attn/r_s_bias:0', 'tfxl_net_for_sequence_classification/transformer/layer_._13/rel_attn/seg_embed:0', 'tfxl_net_for_sequence_classification/transformer/layer_._14/rel_attn/r_s_bias:0', 'tfxl_net_for_sequence_classification/transformer/layer_._14/rel_attn/seg_embed:0', 'tfxl_net_for_sequence_classification/transformer/layer_._15/rel_attn/r_s_bias:0', 'tfxl_net_for_sequence_classification/transformer/layer_._15/rel_attn/seg_embed:0', 'tfxl_net_for_sequence_classification/transformer/layer_._16/rel_attn/r_s_bias:0', 'tfxl_net_for_sequence_classification/transformer/layer_._16/rel_attn/seg_embed:0', 'tfxl_net_for_sequence_classification/transformer/layer_._17/rel_attn/r_s_bias:0', 'tfxl_net_for_sequence_classification/transformer/layer_._17/rel_attn/seg_embed:0', 'tfxl_net_for_sequence_classification/transformer/layer_._18/rel_attn/r_s_bias:0', 'tfxl_net_for_sequence_classification/transformer/layer_._18/rel_attn/seg_embed:0', 'tfxl_net_for_sequence_classification/transformer/layer_._19/rel_attn/r_s_bias:0', 'tfxl_net_for_sequence_classification/transformer/layer_._19/rel_attn/seg_embed:0', 'tfxl_net_for_sequence_classification/transformer/layer_._20/rel_attn/r_s_bias:0', 'tfxl_net_for_sequence_classification/transformer/layer_._20/rel_attn/seg_embed:0', 'tfxl_net_for_sequence_classification/transformer/layer_._21/rel_attn/r_s_bias:0', 'tfxl_net_for_sequence_classification/transformer/layer_._21/rel_attn/seg_embed:0', 'tfxl_net_for_sequence_classification/transformer/layer_._22/rel_attn/r_s_bias:0', 'tfxl_net_for_sequence_classification/transformer/layer_._22/rel_attn/seg_embed:0', 'tfxl_net_for_sequence_classification/transformer/layer_._23/rel_attn/r_s_bias:0', 'tfxl_net_for_sequence_classification/transformer/layer_._23/rel_attn/seg_embed:0'] when minimizing the loss.\n",
      "WARNING:tensorflow:The parameters `output_attentions`, `output_hidden_states` and `use_cache` cannot be updated when calling a model.They have to be set to True/False in the config object (i.e.: `config=XConfig.from_pretrained('name', output_attentions=True)`).\n",
      "WARNING:tensorflow:Gradients do not exist for variables ['tfxl_net_for_sequence_classification/transformer/mask_emb:0', 'tfxl_net_for_sequence_classification/transformer/layer_._0/rel_attn/r_s_bias:0', 'tfxl_net_for_sequence_classification/transformer/layer_._0/rel_attn/seg_embed:0', 'tfxl_net_for_sequence_classification/transformer/layer_._1/rel_attn/r_s_bias:0', 'tfxl_net_for_sequence_classification/transformer/layer_._1/rel_attn/seg_embed:0', 'tfxl_net_for_sequence_classification/transformer/layer_._2/rel_attn/r_s_bias:0', 'tfxl_net_for_sequence_classification/transformer/layer_._2/rel_attn/seg_embed:0', 'tfxl_net_for_sequence_classification/transformer/layer_._3/rel_attn/r_s_bias:0', 'tfxl_net_for_sequence_classification/transformer/layer_._3/rel_attn/seg_embed:0', 'tfxl_net_for_sequence_classification/transformer/layer_._4/rel_attn/r_s_bias:0', 'tfxl_net_for_sequence_classification/transformer/layer_._4/rel_attn/seg_embed:0', 'tfxl_net_for_sequence_classification/transformer/layer_._5/rel_attn/r_s_bias:0', 'tfxl_net_for_sequence_classification/transformer/layer_._5/rel_attn/seg_embed:0', 'tfxl_net_for_sequence_classification/transformer/layer_._6/rel_attn/r_s_bias:0', 'tfxl_net_for_sequence_classification/transformer/layer_._6/rel_attn/seg_embed:0', 'tfxl_net_for_sequence_classification/transformer/layer_._7/rel_attn/r_s_bias:0', 'tfxl_net_for_sequence_classification/transformer/layer_._7/rel_attn/seg_embed:0', 'tfxl_net_for_sequence_classification/transformer/layer_._8/rel_attn/r_s_bias:0', 'tfxl_net_for_sequence_classification/transformer/layer_._8/rel_attn/seg_embed:0', 'tfxl_net_for_sequence_classification/transformer/layer_._9/rel_attn/r_s_bias:0', 'tfxl_net_for_sequence_classification/transformer/layer_._9/rel_attn/seg_embed:0', 'tfxl_net_for_sequence_classification/transformer/layer_._10/rel_attn/r_s_bias:0', 'tfxl_net_for_sequence_classification/transformer/layer_._10/rel_attn/seg_embed:0', 'tfxl_net_for_sequence_classification/transformer/layer_._11/rel_attn/r_s_bias:0', 'tfxl_net_for_sequence_classification/transformer/layer_._11/rel_attn/seg_embed:0', 'tfxl_net_for_sequence_classification/transformer/layer_._12/rel_attn/r_s_bias:0', 'tfxl_net_for_sequence_classification/transformer/layer_._12/rel_attn/seg_embed:0', 'tfxl_net_for_sequence_classification/transformer/layer_._13/rel_attn/r_s_bias:0', 'tfxl_net_for_sequence_classification/transformer/layer_._13/rel_attn/seg_embed:0', 'tfxl_net_for_sequence_classification/transformer/layer_._14/rel_attn/r_s_bias:0', 'tfxl_net_for_sequence_classification/transformer/layer_._14/rel_attn/seg_embed:0', 'tfxl_net_for_sequence_classification/transformer/layer_._15/rel_attn/r_s_bias:0', 'tfxl_net_for_sequence_classification/transformer/layer_._15/rel_attn/seg_embed:0', 'tfxl_net_for_sequence_classification/transformer/layer_._16/rel_attn/r_s_bias:0', 'tfxl_net_for_sequence_classification/transformer/layer_._16/rel_attn/seg_embed:0', 'tfxl_net_for_sequence_classification/transformer/layer_._17/rel_attn/r_s_bias:0', 'tfxl_net_for_sequence_classification/transformer/layer_._17/rel_attn/seg_embed:0', 'tfxl_net_for_sequence_classification/transformer/layer_._18/rel_attn/r_s_bias:0', 'tfxl_net_for_sequence_classification/transformer/layer_._18/rel_attn/seg_embed:0', 'tfxl_net_for_sequence_classification/transformer/layer_._19/rel_attn/r_s_bias:0', 'tfxl_net_for_sequence_classification/transformer/layer_._19/rel_attn/seg_embed:0', 'tfxl_net_for_sequence_classification/transformer/layer_._20/rel_attn/r_s_bias:0', 'tfxl_net_for_sequence_classification/transformer/layer_._20/rel_attn/seg_embed:0', 'tfxl_net_for_sequence_classification/transformer/layer_._21/rel_attn/r_s_bias:0', 'tfxl_net_for_sequence_classification/transformer/layer_._21/rel_attn/seg_embed:0', 'tfxl_net_for_sequence_classification/transformer/layer_._22/rel_attn/r_s_bias:0', 'tfxl_net_for_sequence_classification/transformer/layer_._22/rel_attn/seg_embed:0', 'tfxl_net_for_sequence_classification/transformer/layer_._23/rel_attn/r_s_bias:0', 'tfxl_net_for_sequence_classification/transformer/layer_._23/rel_attn/seg_embed:0'] when minimizing the loss.\n",
      "5596/5596 [==============================] - ETA: 0s - loss: 1.1043 - accuracy: 0.3592WARNING:tensorflow:The parameters `output_attentions`, `output_hidden_states` and `use_cache` cannot be updated when calling a model.They have to be set to True/False in the config object (i.e.: `config=XConfig.from_pretrained('name', output_attentions=True)`).\n",
      "5596/5596 [==============================] - 4683s 833ms/step - loss: 1.1043 - accuracy: 0.3592 - val_loss: 1.0593 - val_accuracy: 0.4246\n",
      "Epoch 2/20\n",
      "5596/5596 [==============================] - 4688s 838ms/step - loss: 1.0882 - accuracy: 0.3855 - val_loss: 1.0197 - val_accuracy: 0.4908\n",
      "Epoch 3/20\n",
      "5596/5596 [==============================] - 4688s 838ms/step - loss: 1.0555 - accuracy: 0.4414 - val_loss: 0.9231 - val_accuracy: 0.6377\n",
      "Epoch 4/20\n",
      "5596/5596 [==============================] - 4695s 839ms/step - loss: 0.9661 - accuracy: 0.5486 - val_loss: 0.7210 - val_accuracy: 0.6992\n",
      "Epoch 5/20\n",
      "5596/5596 [==============================] - 4697s 839ms/step - loss: 0.7974 - accuracy: 0.6546 - val_loss: 0.6852 - val_accuracy: 0.7085\n",
      "Epoch 6/20\n",
      "5596/5596 [==============================] - 4671s 835ms/step - loss: 0.6660 - accuracy: 0.7300 - val_loss: 0.6628 - val_accuracy: 0.7162\n",
      "Epoch 7/20\n",
      "5596/5596 [==============================] - 4669s 834ms/step - loss: 0.5705 - accuracy: 0.7743 - val_loss: 0.6276 - val_accuracy: 0.7408\n",
      "Epoch 8/20\n",
      "5596/5596 [==============================] - 4673s 835ms/step - loss: 0.5174 - accuracy: 0.8017 - val_loss: 0.6320 - val_accuracy: 0.7446\n",
      "Epoch 9/20\n",
      "5596/5596 [==============================] - 4678s 836ms/step - loss: 0.4516 - accuracy: 0.8284 - val_loss: 0.6216 - val_accuracy: 0.7569\n",
      "Epoch 10/20\n",
      "5596/5596 [==============================] - 4682s 837ms/step - loss: 0.4277 - accuracy: 0.8353 - val_loss: 0.5466 - val_accuracy: 0.7869\n",
      "Epoch 11/20\n",
      "5596/5596 [==============================] - 4686s 837ms/step - loss: 0.4025 - accuracy: 0.8485 - val_loss: 0.5494 - val_accuracy: 0.7831\n",
      "Epoch 12/20\n",
      "5596/5596 [==============================] - 4690s 838ms/step - loss: 0.3707 - accuracy: 0.8592 - val_loss: 0.6028 - val_accuracy: 0.7615\n",
      "Epoch 13/20\n",
      "5596/5596 [==============================] - 4689s 838ms/step - loss: 0.3486 - accuracy: 0.8722 - val_loss: 0.5196 - val_accuracy: 0.8031\n",
      "Epoch 14/20\n",
      "5596/5596 [==============================] - 4693s 839ms/step - loss: 0.3163 - accuracy: 0.8827 - val_loss: 0.5468 - val_accuracy: 0.8015\n",
      "Epoch 15/20\n",
      "5596/5596 [==============================] - 4698s 840ms/step - loss: 0.3064 - accuracy: 0.8886 - val_loss: 0.6181 - val_accuracy: 0.7731\n",
      "Epoch 16/20\n",
      "5596/5596 [==============================] - 4700s 840ms/step - loss: 0.2871 - accuracy: 0.8949 - val_loss: 0.5492 - val_accuracy: 0.7985\n",
      "Epoch 17/20\n",
      "5596/5596 [==============================] - 4699s 840ms/step - loss: 0.2750 - accuracy: 0.9003 - val_loss: 0.4628 - val_accuracy: 0.8323\n",
      "Epoch 18/20\n",
      "5596/5596 [==============================] - 4701s 840ms/step - loss: 0.2513 - accuracy: 0.9087 - val_loss: 0.4807 - val_accuracy: 0.8246\n",
      "Epoch 19/20\n",
      "5596/5596 [==============================] - 4701s 840ms/step - loss: 0.2350 - accuracy: 0.9173 - val_loss: 0.4494 - val_accuracy: 0.8454\n",
      "Epoch 20/20\n",
      "5596/5596 [==============================] - 4699s 840ms/step - loss: 0.2246 - accuracy: 0.9187 - val_loss: 0.4298 - val_accuracy: 0.8423\n"
     ]
    }
   ],
   "source": [
    "loss = tf.keras.losses.SparseCategoricalCrossentropy(from_logits=True)\n",
    "metric = tf.keras.metrics.SparseCategoricalAccuracy('accuracy')\n",
    "optimizer = tf.keras.optimizers.Adam(learning_rate=2e-07, epsilon=1e-08)\n",
    "\n",
    "model.compile(optimizer=optimizer, loss=loss, metrics=[metric])\n",
    "history = model.fit(x = train_data, \n",
    "          y = train_labels,\n",
    "          validation_data= (val_data, val_labels), \n",
    "          epochs = nepochs, \n",
    "          batch_size = 5)"
   ]
  },
  {
   "cell_type": "code",
   "execution_count": 26,
   "metadata": {},
   "outputs": [
    {
     "data": {
      "image/png": "[encoded data removed]",
      "text/plain": [
       "<Figure size 576x576 with 2 Axes>"
      ]
     },
     "metadata": {
      "needs_background": "light"
     },
     "output_type": "display_data"
    }
   ],
   "source": [
    "acc = history.history['accuracy']\n",
    "val_acc = history.history['val_accuracy']\n",
    "\n",
    "loss = history.history['loss']\n",
    "val_loss = history.history['val_loss']\n",
    "\n",
    "epochs_range = range(nepochs)\n",
    "\n",
    "plt.figure(figsize=(8, 8))\n",
    "plt.subplot(1, 2, 1)\n",
    "plt.plot(epochs_range, acc, label='Training Accuracy')\n",
    "plt.plot(epochs_range, val_acc, label='Validation Accuracy')\n",
    "plt.legend(loc='lower right')\n",
    "plt.title('Training and Validation Accuracy')\n",
    "\n",
    "plt.subplot(1, 2, 2)\n",
    "plt.plot(epochs_range, loss, label='Training Loss')\n",
    "plt.plot(epochs_range, val_loss, label='Validation Loss')\n",
    "plt.legend(loc='upper right')\n",
    "plt.title('Training and Validation Loss')\n",
    "# plt.show()\n",
    "plt.savefig('xlnetlargebinary20.jpg')"
   ]
  },
  {
   "cell_type": "code",
   "execution_count": 27,
   "metadata": {},
   "outputs": [
    {
     "data": {
      "text/html": [
       "<div>\n",
       "<style scoped>\n",
       "    .dataframe tbody tr th:only-of-type {\n",
       "        vertical-align: middle;\n",
       "    }\n",
       "\n",
       "    .dataframe tbody tr th {\n",
       "        vertical-align: top;\n",
       "    }\n",
       "\n",
       "    .dataframe thead th {\n",
       "        text-align: right;\n",
       "    }\n",
       "</style>\n",
       "<table border=\"1\" class=\"dataframe\">\n",
       "  <thead>\n",
       "    <tr style=\"text-align: right;\">\n",
       "      <th></th>\n",
       "      <th>Accuracy</th>\n",
       "      <th>ValAccuracy</th>\n",
       "      <th>Loss</th>\n",
       "      <th>Val_loss</th>\n",
       "    </tr>\n",
       "  </thead>\n",
       "  <tbody>\n",
       "    <tr>\n",
       "      <th>0</th>\n",
       "      <td>0.361498</td>\n",
       "      <td>0.424615</td>\n",
       "      <td>1.101629</td>\n",
       "      <td>1.059340</td>\n",
       "    </tr>\n",
       "    <tr>\n",
       "      <th>1</th>\n",
       "      <td>0.393202</td>\n",
       "      <td>0.490769</td>\n",
       "      <td>1.083044</td>\n",
       "      <td>1.019700</td>\n",
       "    </tr>\n",
       "    <tr>\n",
       "      <th>2</th>\n",
       "      <td>0.467474</td>\n",
       "      <td>0.637692</td>\n",
       "      <td>1.038630</td>\n",
       "      <td>0.923115</td>\n",
       "    </tr>\n",
       "    <tr>\n",
       "      <th>3</th>\n",
       "      <td>0.576596</td>\n",
       "      <td>0.699231</td>\n",
       "      <td>0.926187</td>\n",
       "      <td>0.721041</td>\n",
       "    </tr>\n",
       "    <tr>\n",
       "      <th>4</th>\n",
       "      <td>0.676067</td>\n",
       "      <td>0.708462</td>\n",
       "      <td>0.758962</td>\n",
       "      <td>0.685202</td>\n",
       "    </tr>\n",
       "  </tbody>\n",
       "</table>\n",
       "</div>"
      ],
      "text/plain": [
       "   Accuracy  ValAccuracy      Loss  Val_loss\n",
       "0  0.361498     0.424615  1.101629  1.059340\n",
       "1  0.393202     0.490769  1.083044  1.019700\n",
       "2  0.467474     0.637692  1.038630  0.923115\n",
       "3  0.576596     0.699231  0.926187  0.721041\n",
       "4  0.676067     0.708462  0.758962  0.685202"
      ]
     },
     "execution_count": 27,
     "metadata": {},
     "output_type": "execute_result"
    }
   ],
   "source": [
    "xlnetmodeldata = pd.DataFrame(list(zip(acc, val_acc, loss, val_loss)),\n",
    "               columns =['Accuracy', 'ValAccuracy', 'Loss', 'Val_loss'])\n",
    "xlnetmodeldata.head()"
   ]
  },
  {
   "cell_type": "code",
   "execution_count": 29,
   "metadata": {},
   "outputs": [],
   "source": [
    "xlnetmodeldata.to_csv(\"xlnetmodeldata.csv\", sep='\\t')"
   ]
  },
  {
   "cell_type": "code",
   "execution_count": null,
   "metadata": {},
   "outputs": [],
   "source": [
    "test_section = pd.read_table(\"Article-Bias-Prediction-main/data/randomtestdata.csv\", sep=',', index_col=0)\n",
    "test_section.shape"
   ]
  },
  {
   "cell_type": "code",
   "execution_count": null,
   "metadata": {},
   "outputs": [],
   "source": [
    "test_labels = np.asarray(le.transform(test_section['bias_text']))\n",
    "test_inputs = [create_input_array(test_section, tokenizer=tokenizer_transformer)]\n",
    "test_data = convert_inputs_to_tf_dataset(test_inputs)"
   ]
  },
  {
   "cell_type": "code",
   "execution_count": null,
   "metadata": {},
   "outputs": [],
   "source": [
    "print(\"Evaluate on test data\")\n",
    "results = model.evaluate(test_data, test_labels, batch_size=5)\n",
    "print(\"test loss, test acc:\", results)\n"
   ]
  },
  {
   "cell_type": "code",
   "execution_count": null,
   "metadata": {},
   "outputs": [],
   "source": [
    "testmodel = TFXLNetForSequenceClassification.from_pretrained(\"data/experiments/XLNetmodel1\", num_labels=len(np.unique(train_labels)))\n"
   ]
  },
  {
   "cell_type": "code",
   "execution_count": null,
   "metadata": {},
   "outputs": [],
   "source": [
    "loss = tf.keras.losses.SparseCategoricalCrossentropy(from_logits=True)\n",
    "metric = tf.keras.metrics.SparseCategoricalAccuracy('accuracy')\n",
    "optimizer = tf.keras.optimizers.Adam(learning_rate=2e-07, epsilon=1e-08)\n",
    "\n",
    "testmodel.compile(optimizer=optimizer, loss=loss, metrics=[metric])"
   ]
  },
  {
   "cell_type": "code",
   "execution_count": null,
   "metadata": {},
   "outputs": [],
   "source": [
    "# predict probabilities for test set\n",
    "test_probs = testmodel.predict(test_data, batch_size= 1, verbose=0)"
   ]
  },
  {
   "cell_type": "code",
   "execution_count": null,
   "metadata": {},
   "outputs": [],
   "source": [
    "test_probs = test_probs[\"logits\"]"
   ]
  },
  {
   "cell_type": "code",
   "execution_count": null,
   "metadata": {},
   "outputs": [],
   "source": [
    "test_classes = np.argmax(test_probs, axis = 1)"
   ]
  },
  {
   "cell_type": "code",
   "execution_count": null,
   "metadata": {},
   "outputs": [],
   "source": [
    "test_classes"
   ]
  },
  {
   "cell_type": "code",
   "execution_count": null,
   "metadata": {},
   "outputs": [],
   "source": [
    "test_labels"
   ]
  },
  {
   "cell_type": "code",
   "execution_count": null,
   "metadata": {},
   "outputs": [],
   "source": [
    "c=0\n",
    "for i in range(test_classes.shape[0]):\n",
    "    if test_classes[i]==test_labels[i]:\n",
    "        c+=1\n",
    "print(\"Test accuracy:\")\n",
    "print(c/test_labels.shape[0])"
   ]
  },
  {
   "cell_type": "code",
   "execution_count": null,
   "metadata": {},
   "outputs": [],
   "source": [
    "from sklearn.metrics import accuracy_score\n",
    "from sklearn.metrics import precision_score\n",
    "from sklearn.metrics import recall_score\n",
    "from sklearn.metrics import f1_score\n",
    "from sklearn.metrics import cohen_kappa_score\n",
    "from sklearn.metrics import roc_auc_score\n",
    "from sklearn.metrics import confusion_matrix"
   ]
  },
  {
   "cell_type": "code",
   "execution_count": null,
   "metadata": {},
   "outputs": [],
   "source": [
    "# accuracy: (tp + tn) / (p + n)\n",
    "accuracy = accuracy_score(test_labels, test_classes)\n",
    "print('Accuracy: %f' % accuracy)\n",
    "# precision tp / (tp + fp)\n",
    "precision = precision_score(test_labels, test_classes)\n",
    "print('Precision: %f' % precision)\n",
    "# recall: tp / (tp + fn)\n",
    "recall = recall_score(test_labels, test_classes)\n",
    "print('Recall: %f' % recall)\n",
    "# f1: 2 tp / (2 tp + fp + fn)\n",
    "f1 = f1_score(test_labels, test_classes)\n",
    "print('F1 score: %f' % f1)\n",
    " "
   ]
  },
  {
   "cell_type": "code",
   "execution_count": null,
   "metadata": {},
   "outputs": [],
   "source": [
    "train_section.to_csv(\"train_dataset.csv\", sep='\\t')\n",
    "val_section.to_csv(\"val_dataset.csv\", sep='\\t')\n",
    "test_section.to_csv(\"test_dataset.csv\", sep='\\t')"
   ]
  },
  {
   "cell_type": "code",
   "execution_count": null,
   "metadata": {},
   "outputs": [],
   "source": []
  },
  {
   "cell_type": "code",
   "execution_count": 30,
   "metadata": {},
   "outputs": [],
   "source": [
    "model.save_pretrained(save_path)"
   ]
  },
  {
   "cell_type": "code",
   "execution_count": null,
   "metadata": {},
   "outputs": [],
   "source": []
  },
  {
   "cell_type": "code",
   "execution_count": null,
   "metadata": {},
   "outputs": [],
   "source": [
    "tf.keras.backend.clear_session()"
   ]
  },
  {
   "cell_type": "code",
   "execution_count": null,
   "metadata": {},
   "outputs": [],
   "source": []
  },
  {
   "cell_type": "code",
   "execution_count": null,
   "metadata": {},
   "outputs": [],
   "source": []
  },
  {
   "cell_type": "code",
   "execution_count": null,
   "metadata": {},
   "outputs": [],
   "source": []
  },
  {
   "cell_type": "code",
   "execution_count": null,
   "metadata": {},
   "outputs": [],
   "source": []
  },
  {
   "cell_type": "code",
   "execution_count": null,
   "metadata": {},
   "outputs": [],
   "source": []
  },
  {
   "cell_type": "code",
   "execution_count": null,
   "metadata": {},
   "outputs": [],
   "source": []
  }
 ],
 "metadata": {
  "kernelspec": {
   "display_name": "Python 3",
   "language": "python",
   "name": "python3"
  },
  "language_info": {
   "codemirror_mode": {
    "name": "ipython",
    "version": 3
   },
   "file_extension": ".py",
   "mimetype": "text/x-python",
   "name": "python",
   "nbconvert_exporter": "python",
   "pygments_lexer": "ipython3",
   "version": "3.8.5"
  }
 },
 "nbformat": 4,
 "nbformat_minor": 5
}
